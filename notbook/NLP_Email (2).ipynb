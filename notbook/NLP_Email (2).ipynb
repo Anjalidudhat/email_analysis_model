{
  "cells": [
    {
      "cell_type": "code",
      "execution_count": null,
      "metadata": {
        "id": "MiirGTyGsROe"
      },
      "outputs": [],
      "source": [
        "import pandas as pd\n",
        "import numpy as np\n",
        "import matplotlib.pyplot as plt\n",
        "import seaborn as sns\n",
        "from sklearn.linear_model import LogisticRegression\n",
        "from sklearn.ensemble import RandomForestClassifier\n",
        "from sklearn.model_selection import train_test_split\n",
        "from sklearn.svm import LinearSVC\n",
        "from sklearn.metrics import accuracy_score\n",
        "from sklearn.preprocessing import OneHotEncoder, StandardScaler\n",
        "from scipy.sparse import hstack\n",
        "from sklearn.feature_extraction.text import TfidfVectorizer\n",
        "from wordcloud import WordCloud\n",
        "import nltk\n",
        "from nltk.stem import PorterStemmer, WordNetLemmatizer\n",
        "from nltk.corpus import stopwords\n",
        "import re\n",
        "import warnings\n",
        "warnings.filterwarnings('ignore')"
      ]
    },
    {
      "cell_type": "code",
      "execution_count": null,
      "metadata": {
        "id": "Ztt02Q-Tsa8-"
      },
      "outputs": [],
      "source": [
        "df = pd.read_csv('/content/Emails.csv')"
      ]
    },
    {
      "cell_type": "code",
      "execution_count": null,
      "metadata": {
        "colab": {
          "base_uri": "https://localhost:8080/",
          "height": 206
        },
        "id": "pSApvNy9tPE2",
        "outputId": "7eb534b0-9a5c-46f8-b7d3-4ec96fa31030"
      },
      "outputs": [
        {
          "output_type": "execute_result",
          "data": {
            "text/plain": [
              "   Unnamed: 0                  filename  \\\n",
              "0           0   arnold-j/_sent_mail/34.   \n",
              "1           1  arnold-j/_sent_mail/517.   \n",
              "2           2  arnold-j/_sent_mail/743.   \n",
              "3           3  arnold-j/_sent_mail/766.   \n",
              "4           4  arnold-j/_sent_mail/797.   \n",
              "\n",
              "                                      Message-ID  \\\n",
              "0  <15267340.1075857594923.JavaMail.evans@thyme>   \n",
              "1  <15539583.1075857652152.JavaMail.evans@thyme>   \n",
              "2   <4339799.1075857657711.JavaMail.evans@thyme>   \n",
              "3  <25574783.1075857658215.JavaMail.evans@thyme>   \n",
              "4  <19506151.1075857658895.JavaMail.evans@thyme>   \n",
              "\n",
              "                                             content    Class  \n",
              "0  eat shit\\n\\n\\n\\n\\nJohn J Lavorato@excelr\\n11/1...  Abusive  \n",
              "1                                           fuck you  Abusive  \n",
              "2  Gentlemen:\\nThe following champagne is availab...  Abusive  \n",
              "3  sorry i've taken so long...just been trying to...  Abusive  \n",
              "4  asshole\\n\\n\\n\\n\\nJohn J Lavorato@excelr\\n12/23...  Abusive  "
            ],
            "text/html": [
              "\n",
              "  <div id=\"df-9a247f6f-b859-46d3-8ccf-5735658fcf8c\" class=\"colab-df-container\">\n",
              "    <div>\n",
              "<style scoped>\n",
              "    .dataframe tbody tr th:only-of-type {\n",
              "        vertical-align: middle;\n",
              "    }\n",
              "\n",
              "    .dataframe tbody tr th {\n",
              "        vertical-align: top;\n",
              "    }\n",
              "\n",
              "    .dataframe thead th {\n",
              "        text-align: right;\n",
              "    }\n",
              "</style>\n",
              "<table border=\"1\" class=\"dataframe\">\n",
              "  <thead>\n",
              "    <tr style=\"text-align: right;\">\n",
              "      <th></th>\n",
              "      <th>Unnamed: 0</th>\n",
              "      <th>filename</th>\n",
              "      <th>Message-ID</th>\n",
              "      <th>content</th>\n",
              "      <th>Class</th>\n",
              "    </tr>\n",
              "  </thead>\n",
              "  <tbody>\n",
              "    <tr>\n",
              "      <th>0</th>\n",
              "      <td>0</td>\n",
              "      <td>arnold-j/_sent_mail/34.</td>\n",
              "      <td>&lt;15267340.1075857594923.JavaMail.evans@thyme&gt;</td>\n",
              "      <td>eat shit\\n\\n\\n\\n\\nJohn J Lavorato@excelr\\n11/1...</td>\n",
              "      <td>Abusive</td>\n",
              "    </tr>\n",
              "    <tr>\n",
              "      <th>1</th>\n",
              "      <td>1</td>\n",
              "      <td>arnold-j/_sent_mail/517.</td>\n",
              "      <td>&lt;15539583.1075857652152.JavaMail.evans@thyme&gt;</td>\n",
              "      <td>fuck you</td>\n",
              "      <td>Abusive</td>\n",
              "    </tr>\n",
              "    <tr>\n",
              "      <th>2</th>\n",
              "      <td>2</td>\n",
              "      <td>arnold-j/_sent_mail/743.</td>\n",
              "      <td>&lt;4339799.1075857657711.JavaMail.evans@thyme&gt;</td>\n",
              "      <td>Gentlemen:\\nThe following champagne is availab...</td>\n",
              "      <td>Abusive</td>\n",
              "    </tr>\n",
              "    <tr>\n",
              "      <th>3</th>\n",
              "      <td>3</td>\n",
              "      <td>arnold-j/_sent_mail/766.</td>\n",
              "      <td>&lt;25574783.1075857658215.JavaMail.evans@thyme&gt;</td>\n",
              "      <td>sorry i've taken so long...just been trying to...</td>\n",
              "      <td>Abusive</td>\n",
              "    </tr>\n",
              "    <tr>\n",
              "      <th>4</th>\n",
              "      <td>4</td>\n",
              "      <td>arnold-j/_sent_mail/797.</td>\n",
              "      <td>&lt;19506151.1075857658895.JavaMail.evans@thyme&gt;</td>\n",
              "      <td>asshole\\n\\n\\n\\n\\nJohn J Lavorato@excelr\\n12/23...</td>\n",
              "      <td>Abusive</td>\n",
              "    </tr>\n",
              "  </tbody>\n",
              "</table>\n",
              "</div>\n",
              "    <div class=\"colab-df-buttons\">\n",
              "\n",
              "  <div class=\"colab-df-container\">\n",
              "    <button class=\"colab-df-convert\" onclick=\"convertToInteractive('df-9a247f6f-b859-46d3-8ccf-5735658fcf8c')\"\n",
              "            title=\"Convert this dataframe to an interactive table.\"\n",
              "            style=\"display:none;\">\n",
              "\n",
              "  <svg xmlns=\"http://www.w3.org/2000/svg\" height=\"24px\" viewBox=\"0 -960 960 960\">\n",
              "    <path d=\"M120-120v-720h720v720H120Zm60-500h600v-160H180v160Zm220 220h160v-160H400v160Zm0 220h160v-160H400v160ZM180-400h160v-160H180v160Zm440 0h160v-160H620v160ZM180-180h160v-160H180v160Zm440 0h160v-160H620v160Z\"/>\n",
              "  </svg>\n",
              "    </button>\n",
              "\n",
              "  <style>\n",
              "    .colab-df-container {\n",
              "      display:flex;\n",
              "      gap: 12px;\n",
              "    }\n",
              "\n",
              "    .colab-df-convert {\n",
              "      background-color: #E8F0FE;\n",
              "      border: none;\n",
              "      border-radius: 50%;\n",
              "      cursor: pointer;\n",
              "      display: none;\n",
              "      fill: #1967D2;\n",
              "      height: 32px;\n",
              "      padding: 0 0 0 0;\n",
              "      width: 32px;\n",
              "    }\n",
              "\n",
              "    .colab-df-convert:hover {\n",
              "      background-color: #E2EBFA;\n",
              "      box-shadow: 0px 1px 2px rgba(60, 64, 67, 0.3), 0px 1px 3px 1px rgba(60, 64, 67, 0.15);\n",
              "      fill: #174EA6;\n",
              "    }\n",
              "\n",
              "    .colab-df-buttons div {\n",
              "      margin-bottom: 4px;\n",
              "    }\n",
              "\n",
              "    [theme=dark] .colab-df-convert {\n",
              "      background-color: #3B4455;\n",
              "      fill: #D2E3FC;\n",
              "    }\n",
              "\n",
              "    [theme=dark] .colab-df-convert:hover {\n",
              "      background-color: #434B5C;\n",
              "      box-shadow: 0px 1px 3px 1px rgba(0, 0, 0, 0.15);\n",
              "      filter: drop-shadow(0px 1px 2px rgba(0, 0, 0, 0.3));\n",
              "      fill: #FFFFFF;\n",
              "    }\n",
              "  </style>\n",
              "\n",
              "    <script>\n",
              "      const buttonEl =\n",
              "        document.querySelector('#df-9a247f6f-b859-46d3-8ccf-5735658fcf8c button.colab-df-convert');\n",
              "      buttonEl.style.display =\n",
              "        google.colab.kernel.accessAllowed ? 'block' : 'none';\n",
              "\n",
              "      async function convertToInteractive(key) {\n",
              "        const element = document.querySelector('#df-9a247f6f-b859-46d3-8ccf-5735658fcf8c');\n",
              "        const dataTable =\n",
              "          await google.colab.kernel.invokeFunction('convertToInteractive',\n",
              "                                                    [key], {});\n",
              "        if (!dataTable) return;\n",
              "\n",
              "        const docLinkHtml = 'Like what you see? Visit the ' +\n",
              "          '<a target=\"_blank\" href=https://colab.research.google.com/notebooks/data_table.ipynb>data table notebook</a>'\n",
              "          + ' to learn more about interactive tables.';\n",
              "        element.innerHTML = '';\n",
              "        dataTable['output_type'] = 'display_data';\n",
              "        await google.colab.output.renderOutput(dataTable, element);\n",
              "        const docLink = document.createElement('div');\n",
              "        docLink.innerHTML = docLinkHtml;\n",
              "        element.appendChild(docLink);\n",
              "      }\n",
              "    </script>\n",
              "  </div>\n",
              "\n",
              "\n",
              "<div id=\"df-ce9ce066-1c5a-4c64-b80d-a41136b56c50\">\n",
              "  <button class=\"colab-df-quickchart\" onclick=\"quickchart('df-ce9ce066-1c5a-4c64-b80d-a41136b56c50')\"\n",
              "            title=\"Suggest charts\"\n",
              "            style=\"display:none;\">\n",
              "\n",
              "<svg xmlns=\"http://www.w3.org/2000/svg\" height=\"24px\"viewBox=\"0 0 24 24\"\n",
              "     width=\"24px\">\n",
              "    <g>\n",
              "        <path d=\"M19 3H5c-1.1 0-2 .9-2 2v14c0 1.1.9 2 2 2h14c1.1 0 2-.9 2-2V5c0-1.1-.9-2-2-2zM9 17H7v-7h2v7zm4 0h-2V7h2v10zm4 0h-2v-4h2v4z\"/>\n",
              "    </g>\n",
              "</svg>\n",
              "  </button>\n",
              "\n",
              "<style>\n",
              "  .colab-df-quickchart {\n",
              "      --bg-color: #E8F0FE;\n",
              "      --fill-color: #1967D2;\n",
              "      --hover-bg-color: #E2EBFA;\n",
              "      --hover-fill-color: #174EA6;\n",
              "      --disabled-fill-color: #AAA;\n",
              "      --disabled-bg-color: #DDD;\n",
              "  }\n",
              "\n",
              "  [theme=dark] .colab-df-quickchart {\n",
              "      --bg-color: #3B4455;\n",
              "      --fill-color: #D2E3FC;\n",
              "      --hover-bg-color: #434B5C;\n",
              "      --hover-fill-color: #FFFFFF;\n",
              "      --disabled-bg-color: #3B4455;\n",
              "      --disabled-fill-color: #666;\n",
              "  }\n",
              "\n",
              "  .colab-df-quickchart {\n",
              "    background-color: var(--bg-color);\n",
              "    border: none;\n",
              "    border-radius: 50%;\n",
              "    cursor: pointer;\n",
              "    display: none;\n",
              "    fill: var(--fill-color);\n",
              "    height: 32px;\n",
              "    padding: 0;\n",
              "    width: 32px;\n",
              "  }\n",
              "\n",
              "  .colab-df-quickchart:hover {\n",
              "    background-color: var(--hover-bg-color);\n",
              "    box-shadow: 0 1px 2px rgba(60, 64, 67, 0.3), 0 1px 3px 1px rgba(60, 64, 67, 0.15);\n",
              "    fill: var(--button-hover-fill-color);\n",
              "  }\n",
              "\n",
              "  .colab-df-quickchart-complete:disabled,\n",
              "  .colab-df-quickchart-complete:disabled:hover {\n",
              "    background-color: var(--disabled-bg-color);\n",
              "    fill: var(--disabled-fill-color);\n",
              "    box-shadow: none;\n",
              "  }\n",
              "\n",
              "  .colab-df-spinner {\n",
              "    border: 2px solid var(--fill-color);\n",
              "    border-color: transparent;\n",
              "    border-bottom-color: var(--fill-color);\n",
              "    animation:\n",
              "      spin 1s steps(1) infinite;\n",
              "  }\n",
              "\n",
              "  @keyframes spin {\n",
              "    0% {\n",
              "      border-color: transparent;\n",
              "      border-bottom-color: var(--fill-color);\n",
              "      border-left-color: var(--fill-color);\n",
              "    }\n",
              "    20% {\n",
              "      border-color: transparent;\n",
              "      border-left-color: var(--fill-color);\n",
              "      border-top-color: var(--fill-color);\n",
              "    }\n",
              "    30% {\n",
              "      border-color: transparent;\n",
              "      border-left-color: var(--fill-color);\n",
              "      border-top-color: var(--fill-color);\n",
              "      border-right-color: var(--fill-color);\n",
              "    }\n",
              "    40% {\n",
              "      border-color: transparent;\n",
              "      border-right-color: var(--fill-color);\n",
              "      border-top-color: var(--fill-color);\n",
              "    }\n",
              "    60% {\n",
              "      border-color: transparent;\n",
              "      border-right-color: var(--fill-color);\n",
              "    }\n",
              "    80% {\n",
              "      border-color: transparent;\n",
              "      border-right-color: var(--fill-color);\n",
              "      border-bottom-color: var(--fill-color);\n",
              "    }\n",
              "    90% {\n",
              "      border-color: transparent;\n",
              "      border-bottom-color: var(--fill-color);\n",
              "    }\n",
              "  }\n",
              "</style>\n",
              "\n",
              "  <script>\n",
              "    async function quickchart(key) {\n",
              "      const quickchartButtonEl =\n",
              "        document.querySelector('#' + key + ' button');\n",
              "      quickchartButtonEl.disabled = true;  // To prevent multiple clicks.\n",
              "      quickchartButtonEl.classList.add('colab-df-spinner');\n",
              "      try {\n",
              "        const charts = await google.colab.kernel.invokeFunction(\n",
              "            'suggestCharts', [key], {});\n",
              "      } catch (error) {\n",
              "        console.error('Error during call to suggestCharts:', error);\n",
              "      }\n",
              "      quickchartButtonEl.classList.remove('colab-df-spinner');\n",
              "      quickchartButtonEl.classList.add('colab-df-quickchart-complete');\n",
              "    }\n",
              "    (() => {\n",
              "      let quickchartButtonEl =\n",
              "        document.querySelector('#df-ce9ce066-1c5a-4c64-b80d-a41136b56c50 button');\n",
              "      quickchartButtonEl.style.display =\n",
              "        google.colab.kernel.accessAllowed ? 'block' : 'none';\n",
              "    })();\n",
              "  </script>\n",
              "</div>\n",
              "\n",
              "    </div>\n",
              "  </div>\n"
            ],
            "application/vnd.google.colaboratory.intrinsic+json": {
              "type": "dataframe",
              "variable_name": "df",
              "summary": "{\n  \"name\": \"df\",\n  \"rows\": 48535,\n  \"fields\": [\n    {\n      \"column\": \"Unnamed: 0\",\n      \"properties\": {\n        \"dtype\": \"number\",\n        \"std\": 13827,\n        \"min\": 0,\n        \"max\": 48075,\n        \"num_unique_values\": 48076,\n        \"samples\": [\n          465,\n          22169,\n          20879\n        ],\n        \"semantic_type\": \"\",\n        \"description\": \"\"\n      }\n    },\n    {\n      \"column\": \"filename\",\n      \"properties\": {\n        \"dtype\": \"string\",\n        \"num_unique_values\": 48076,\n        \"samples\": [\n          \"dasovich-j/sent/1358.\",\n          \"baughman-d/discussion_threads/64.\",\n          \"bass-e/sent/909.\"\n        ],\n        \"semantic_type\": \"\",\n        \"description\": \"\"\n      }\n    },\n    {\n      \"column\": \"Message-ID\",\n      \"properties\": {\n        \"dtype\": \"string\",\n        \"num_unique_values\": 48076,\n        \"samples\": [\n          \"<6040499.1075843217211.JavaMail.evans@thyme>\",\n          \"<15504999.1075848322807.JavaMail.evans@thyme>\",\n          \"<33022878.1075854706185.JavaMail.evans@thyme>\"\n        ],\n        \"semantic_type\": \"\",\n        \"description\": \"\"\n      }\n    },\n    {\n      \"column\": \"content\",\n      \"properties\": {\n        \"dtype\": \"string\",\n        \"num_unique_values\": 24657,\n        \"samples\": [\n          \"\\nSandra,\\n\\nHere is the telephone number to the place that Ken Logsdon works.  The guy listed at the bottom works for Ken.\\n -----Original Message-----\\nFrom: \\t\\\"Steve Bennotti\\\" <sbenott@firstunion1.com>@excelr  \\nSent:\\tMonday, January 14, 2002 9:23 AM\\nTo:\\tundisclosed-recipients:;@excelr\\nSubject:\\tRE: On Line Access to View Your Account.\\n\\nFirst Union has changed the on-line enrollment process. All you need to do is to go to www.firstunionsec.com, click on the \\\"Enroll for access online\\\", You will then be required to call 1-877-879-2495. They will set you up with pin numbers, etc.\\nYou only need to call if you are not on-line or you need to add an account for you to view.. If you prefer, we can do a conference call with First Union to set up the account.\\n\\nPlease give us a call with any questions. The process should take approx. 5 minutes.\\n\\nTake Care and Have a good week,\\n\\n\\nStephen M. Benotti\\nFinancial Consultant\\nEmery Financial Group\\n713-853-2388 (Direct)\\n866-753-9556\\n713-853-2366 (Fax)\\nsbenott@firstunion1.com\",\n          \"\\nUPDATE ON GRAEME WHITE\\n\\nWe are pleased to be able to give you a progress report on the condition of Graeme White who was injured in Wednesday's explosion at Teesside Power Station.  Graeme has now been moved from the Intensive Care Unit at Middlesbrough General Hospital to Ward 46 - a specialised skincare unit - where he is receiving treatment for burns.  He has been able to open his eyes now and is taking food.  His condition is still described as \\\"stable\\\".\\n\\nPlease don't send flowers, but cards and messages for Graeme will be welcome.  They should be sent to the address below or c/o Julie Webster at excelr's Stockton office who will ensure they are promptly delivered.\\n\\nGraeme was visited last night by Jeff Skilling and Brian Stanley and they also met members of his family.  Other colleagues planning a visit should contact Julie Webster (+44 1642 623004) or Graham Moore (+44 1642 442133) who are coordinating the program.\\n\\nAddress for cards and messages:\\n\\nGraeme White\\nWard 46\\nMiddlesbrough General Hospital\\nAyresome Green Lane\\nMiddlesbrough  TS5 5AZ\\nUK\\n\\nJulie Webster\\nexcelr Power Operations Ltd.,\\nMerchants Wharf\\nWestpoint Road\\nStockton on Tees\\nCleveland TS17 6BF\\nUK\\n\\nWith thanks,\\nSteve Roy\",\n          \"here is the house that I was talking about\\n\\nhttp://www.har.com/search/condo/indexdetail.cfm?mlnum=533930\"\n        ],\n        \"semantic_type\": \"\",\n        \"description\": \"\"\n      }\n    },\n    {\n      \"column\": \"Class\",\n      \"properties\": {\n        \"dtype\": \"category\",\n        \"num_unique_values\": 2,\n        \"samples\": [\n          \"Non Abusive\",\n          \"Abusive\"\n        ],\n        \"semantic_type\": \"\",\n        \"description\": \"\"\n      }\n    }\n  ]\n}"
            }
          },
          "metadata": {},
          "execution_count": 5
        }
      ],
      "source": [
        "df.head()"
      ]
    },
    {
      "cell_type": "code",
      "execution_count": null,
      "metadata": {
        "colab": {
          "base_uri": "https://localhost:8080/",
          "height": 300
        },
        "id": "t0eWWyO6tRcV",
        "outputId": "2f557ec3-b37a-4086-d177-8e46242d57ac"
      },
      "outputs": [
        {
          "output_type": "execute_result",
          "data": {
            "text/plain": [
              "         Unnamed: 0\n",
              "count  48535.000000\n",
              "mean   23974.066550\n",
              "std    13827.961771\n",
              "min        0.000000\n",
              "25%    12133.500000\n",
              "50%    23808.000000\n",
              "75%    35941.500000\n",
              "max    48075.000000"
            ],
            "text/html": [
              "\n",
              "  <div id=\"df-16385b51-3cee-4dc2-8c84-3126e932453b\" class=\"colab-df-container\">\n",
              "    <div>\n",
              "<style scoped>\n",
              "    .dataframe tbody tr th:only-of-type {\n",
              "        vertical-align: middle;\n",
              "    }\n",
              "\n",
              "    .dataframe tbody tr th {\n",
              "        vertical-align: top;\n",
              "    }\n",
              "\n",
              "    .dataframe thead th {\n",
              "        text-align: right;\n",
              "    }\n",
              "</style>\n",
              "<table border=\"1\" class=\"dataframe\">\n",
              "  <thead>\n",
              "    <tr style=\"text-align: right;\">\n",
              "      <th></th>\n",
              "      <th>Unnamed: 0</th>\n",
              "    </tr>\n",
              "  </thead>\n",
              "  <tbody>\n",
              "    <tr>\n",
              "      <th>count</th>\n",
              "      <td>48535.000000</td>\n",
              "    </tr>\n",
              "    <tr>\n",
              "      <th>mean</th>\n",
              "      <td>23974.066550</td>\n",
              "    </tr>\n",
              "    <tr>\n",
              "      <th>std</th>\n",
              "      <td>13827.961771</td>\n",
              "    </tr>\n",
              "    <tr>\n",
              "      <th>min</th>\n",
              "      <td>0.000000</td>\n",
              "    </tr>\n",
              "    <tr>\n",
              "      <th>25%</th>\n",
              "      <td>12133.500000</td>\n",
              "    </tr>\n",
              "    <tr>\n",
              "      <th>50%</th>\n",
              "      <td>23808.000000</td>\n",
              "    </tr>\n",
              "    <tr>\n",
              "      <th>75%</th>\n",
              "      <td>35941.500000</td>\n",
              "    </tr>\n",
              "    <tr>\n",
              "      <th>max</th>\n",
              "      <td>48075.000000</td>\n",
              "    </tr>\n",
              "  </tbody>\n",
              "</table>\n",
              "</div>\n",
              "    <div class=\"colab-df-buttons\">\n",
              "\n",
              "  <div class=\"colab-df-container\">\n",
              "    <button class=\"colab-df-convert\" onclick=\"convertToInteractive('df-16385b51-3cee-4dc2-8c84-3126e932453b')\"\n",
              "            title=\"Convert this dataframe to an interactive table.\"\n",
              "            style=\"display:none;\">\n",
              "\n",
              "  <svg xmlns=\"http://www.w3.org/2000/svg\" height=\"24px\" viewBox=\"0 -960 960 960\">\n",
              "    <path d=\"M120-120v-720h720v720H120Zm60-500h600v-160H180v160Zm220 220h160v-160H400v160Zm0 220h160v-160H400v160ZM180-400h160v-160H180v160Zm440 0h160v-160H620v160ZM180-180h160v-160H180v160Zm440 0h160v-160H620v160Z\"/>\n",
              "  </svg>\n",
              "    </button>\n",
              "\n",
              "  <style>\n",
              "    .colab-df-container {\n",
              "      display:flex;\n",
              "      gap: 12px;\n",
              "    }\n",
              "\n",
              "    .colab-df-convert {\n",
              "      background-color: #E8F0FE;\n",
              "      border: none;\n",
              "      border-radius: 50%;\n",
              "      cursor: pointer;\n",
              "      display: none;\n",
              "      fill: #1967D2;\n",
              "      height: 32px;\n",
              "      padding: 0 0 0 0;\n",
              "      width: 32px;\n",
              "    }\n",
              "\n",
              "    .colab-df-convert:hover {\n",
              "      background-color: #E2EBFA;\n",
              "      box-shadow: 0px 1px 2px rgba(60, 64, 67, 0.3), 0px 1px 3px 1px rgba(60, 64, 67, 0.15);\n",
              "      fill: #174EA6;\n",
              "    }\n",
              "\n",
              "    .colab-df-buttons div {\n",
              "      margin-bottom: 4px;\n",
              "    }\n",
              "\n",
              "    [theme=dark] .colab-df-convert {\n",
              "      background-color: #3B4455;\n",
              "      fill: #D2E3FC;\n",
              "    }\n",
              "\n",
              "    [theme=dark] .colab-df-convert:hover {\n",
              "      background-color: #434B5C;\n",
              "      box-shadow: 0px 1px 3px 1px rgba(0, 0, 0, 0.15);\n",
              "      filter: drop-shadow(0px 1px 2px rgba(0, 0, 0, 0.3));\n",
              "      fill: #FFFFFF;\n",
              "    }\n",
              "  </style>\n",
              "\n",
              "    <script>\n",
              "      const buttonEl =\n",
              "        document.querySelector('#df-16385b51-3cee-4dc2-8c84-3126e932453b button.colab-df-convert');\n",
              "      buttonEl.style.display =\n",
              "        google.colab.kernel.accessAllowed ? 'block' : 'none';\n",
              "\n",
              "      async function convertToInteractive(key) {\n",
              "        const element = document.querySelector('#df-16385b51-3cee-4dc2-8c84-3126e932453b');\n",
              "        const dataTable =\n",
              "          await google.colab.kernel.invokeFunction('convertToInteractive',\n",
              "                                                    [key], {});\n",
              "        if (!dataTable) return;\n",
              "\n",
              "        const docLinkHtml = 'Like what you see? Visit the ' +\n",
              "          '<a target=\"_blank\" href=https://colab.research.google.com/notebooks/data_table.ipynb>data table notebook</a>'\n",
              "          + ' to learn more about interactive tables.';\n",
              "        element.innerHTML = '';\n",
              "        dataTable['output_type'] = 'display_data';\n",
              "        await google.colab.output.renderOutput(dataTable, element);\n",
              "        const docLink = document.createElement('div');\n",
              "        docLink.innerHTML = docLinkHtml;\n",
              "        element.appendChild(docLink);\n",
              "      }\n",
              "    </script>\n",
              "  </div>\n",
              "\n",
              "\n",
              "<div id=\"df-324a3fb7-bfcf-4921-ab44-bc23450d750d\">\n",
              "  <button class=\"colab-df-quickchart\" onclick=\"quickchart('df-324a3fb7-bfcf-4921-ab44-bc23450d750d')\"\n",
              "            title=\"Suggest charts\"\n",
              "            style=\"display:none;\">\n",
              "\n",
              "<svg xmlns=\"http://www.w3.org/2000/svg\" height=\"24px\"viewBox=\"0 0 24 24\"\n",
              "     width=\"24px\">\n",
              "    <g>\n",
              "        <path d=\"M19 3H5c-1.1 0-2 .9-2 2v14c0 1.1.9 2 2 2h14c1.1 0 2-.9 2-2V5c0-1.1-.9-2-2-2zM9 17H7v-7h2v7zm4 0h-2V7h2v10zm4 0h-2v-4h2v4z\"/>\n",
              "    </g>\n",
              "</svg>\n",
              "  </button>\n",
              "\n",
              "<style>\n",
              "  .colab-df-quickchart {\n",
              "      --bg-color: #E8F0FE;\n",
              "      --fill-color: #1967D2;\n",
              "      --hover-bg-color: #E2EBFA;\n",
              "      --hover-fill-color: #174EA6;\n",
              "      --disabled-fill-color: #AAA;\n",
              "      --disabled-bg-color: #DDD;\n",
              "  }\n",
              "\n",
              "  [theme=dark] .colab-df-quickchart {\n",
              "      --bg-color: #3B4455;\n",
              "      --fill-color: #D2E3FC;\n",
              "      --hover-bg-color: #434B5C;\n",
              "      --hover-fill-color: #FFFFFF;\n",
              "      --disabled-bg-color: #3B4455;\n",
              "      --disabled-fill-color: #666;\n",
              "  }\n",
              "\n",
              "  .colab-df-quickchart {\n",
              "    background-color: var(--bg-color);\n",
              "    border: none;\n",
              "    border-radius: 50%;\n",
              "    cursor: pointer;\n",
              "    display: none;\n",
              "    fill: var(--fill-color);\n",
              "    height: 32px;\n",
              "    padding: 0;\n",
              "    width: 32px;\n",
              "  }\n",
              "\n",
              "  .colab-df-quickchart:hover {\n",
              "    background-color: var(--hover-bg-color);\n",
              "    box-shadow: 0 1px 2px rgba(60, 64, 67, 0.3), 0 1px 3px 1px rgba(60, 64, 67, 0.15);\n",
              "    fill: var(--button-hover-fill-color);\n",
              "  }\n",
              "\n",
              "  .colab-df-quickchart-complete:disabled,\n",
              "  .colab-df-quickchart-complete:disabled:hover {\n",
              "    background-color: var(--disabled-bg-color);\n",
              "    fill: var(--disabled-fill-color);\n",
              "    box-shadow: none;\n",
              "  }\n",
              "\n",
              "  .colab-df-spinner {\n",
              "    border: 2px solid var(--fill-color);\n",
              "    border-color: transparent;\n",
              "    border-bottom-color: var(--fill-color);\n",
              "    animation:\n",
              "      spin 1s steps(1) infinite;\n",
              "  }\n",
              "\n",
              "  @keyframes spin {\n",
              "    0% {\n",
              "      border-color: transparent;\n",
              "      border-bottom-color: var(--fill-color);\n",
              "      border-left-color: var(--fill-color);\n",
              "    }\n",
              "    20% {\n",
              "      border-color: transparent;\n",
              "      border-left-color: var(--fill-color);\n",
              "      border-top-color: var(--fill-color);\n",
              "    }\n",
              "    30% {\n",
              "      border-color: transparent;\n",
              "      border-left-color: var(--fill-color);\n",
              "      border-top-color: var(--fill-color);\n",
              "      border-right-color: var(--fill-color);\n",
              "    }\n",
              "    40% {\n",
              "      border-color: transparent;\n",
              "      border-right-color: var(--fill-color);\n",
              "      border-top-color: var(--fill-color);\n",
              "    }\n",
              "    60% {\n",
              "      border-color: transparent;\n",
              "      border-right-color: var(--fill-color);\n",
              "    }\n",
              "    80% {\n",
              "      border-color: transparent;\n",
              "      border-right-color: var(--fill-color);\n",
              "      border-bottom-color: var(--fill-color);\n",
              "    }\n",
              "    90% {\n",
              "      border-color: transparent;\n",
              "      border-bottom-color: var(--fill-color);\n",
              "    }\n",
              "  }\n",
              "</style>\n",
              "\n",
              "  <script>\n",
              "    async function quickchart(key) {\n",
              "      const quickchartButtonEl =\n",
              "        document.querySelector('#' + key + ' button');\n",
              "      quickchartButtonEl.disabled = true;  // To prevent multiple clicks.\n",
              "      quickchartButtonEl.classList.add('colab-df-spinner');\n",
              "      try {\n",
              "        const charts = await google.colab.kernel.invokeFunction(\n",
              "            'suggestCharts', [key], {});\n",
              "      } catch (error) {\n",
              "        console.error('Error during call to suggestCharts:', error);\n",
              "      }\n",
              "      quickchartButtonEl.classList.remove('colab-df-spinner');\n",
              "      quickchartButtonEl.classList.add('colab-df-quickchart-complete');\n",
              "    }\n",
              "    (() => {\n",
              "      let quickchartButtonEl =\n",
              "        document.querySelector('#df-324a3fb7-bfcf-4921-ab44-bc23450d750d button');\n",
              "      quickchartButtonEl.style.display =\n",
              "        google.colab.kernel.accessAllowed ? 'block' : 'none';\n",
              "    })();\n",
              "  </script>\n",
              "</div>\n",
              "\n",
              "    </div>\n",
              "  </div>\n"
            ],
            "application/vnd.google.colaboratory.intrinsic+json": {
              "type": "dataframe",
              "summary": "{\n  \"name\": \"df\",\n  \"rows\": 8,\n  \"fields\": [\n    {\n      \"column\": \"Unnamed: 0\",\n      \"properties\": {\n        \"dtype\": \"number\",\n        \"std\": 17398.479052710125,\n        \"min\": 0.0,\n        \"max\": 48535.0,\n        \"num_unique_values\": 8,\n        \"samples\": [\n          23974.066549912433,\n          23808.0,\n          48535.0\n        ],\n        \"semantic_type\": \"\",\n        \"description\": \"\"\n      }\n    }\n  ]\n}"
            }
          },
          "metadata": {},
          "execution_count": 6
        }
      ],
      "source": [
        "df.describe()"
      ]
    },
    {
      "cell_type": "code",
      "execution_count": null,
      "metadata": {
        "colab": {
          "base_uri": "https://localhost:8080/"
        },
        "id": "d3kGwWLEv4lh",
        "outputId": "18adee57-ad96-4471-85aa-91e1d0feb144"
      },
      "outputs": [
        {
          "output_type": "stream",
          "name": "stdout",
          "text": [
            "<class 'pandas.core.frame.DataFrame'>\n",
            "RangeIndex: 48535 entries, 0 to 48534\n",
            "Data columns (total 5 columns):\n",
            " #   Column      Non-Null Count  Dtype \n",
            "---  ------      --------------  ----- \n",
            " 0   Unnamed: 0  48535 non-null  int64 \n",
            " 1   filename    48535 non-null  object\n",
            " 2   Message-ID  48535 non-null  object\n",
            " 3   content     48535 non-null  object\n",
            " 4   Class       48535 non-null  object\n",
            "dtypes: int64(1), object(4)\n",
            "memory usage: 1.9+ MB\n"
          ]
        }
      ],
      "source": [
        "df.info()"
      ]
    },
    {
      "cell_type": "code",
      "execution_count": null,
      "metadata": {
        "colab": {
          "base_uri": "https://localhost:8080/",
          "height": 241
        },
        "id": "zD2gJXdQv7e9",
        "outputId": "4ec25b4d-cf91-4a31-86f9-2e694c367773"
      },
      "outputs": [
        {
          "output_type": "execute_result",
          "data": {
            "text/plain": [
              "Unnamed: 0    0\n",
              "filename      0\n",
              "Message-ID    0\n",
              "content       0\n",
              "Class         0\n",
              "dtype: int64"
            ],
            "text/html": [
              "<div>\n",
              "<style scoped>\n",
              "    .dataframe tbody tr th:only-of-type {\n",
              "        vertical-align: middle;\n",
              "    }\n",
              "\n",
              "    .dataframe tbody tr th {\n",
              "        vertical-align: top;\n",
              "    }\n",
              "\n",
              "    .dataframe thead th {\n",
              "        text-align: right;\n",
              "    }\n",
              "</style>\n",
              "<table border=\"1\" class=\"dataframe\">\n",
              "  <thead>\n",
              "    <tr style=\"text-align: right;\">\n",
              "      <th></th>\n",
              "      <th>0</th>\n",
              "    </tr>\n",
              "  </thead>\n",
              "  <tbody>\n",
              "    <tr>\n",
              "      <th>Unnamed: 0</th>\n",
              "      <td>0</td>\n",
              "    </tr>\n",
              "    <tr>\n",
              "      <th>filename</th>\n",
              "      <td>0</td>\n",
              "    </tr>\n",
              "    <tr>\n",
              "      <th>Message-ID</th>\n",
              "      <td>0</td>\n",
              "    </tr>\n",
              "    <tr>\n",
              "      <th>content</th>\n",
              "      <td>0</td>\n",
              "    </tr>\n",
              "    <tr>\n",
              "      <th>Class</th>\n",
              "      <td>0</td>\n",
              "    </tr>\n",
              "  </tbody>\n",
              "</table>\n",
              "</div><br><label><b>dtype:</b> int64</label>"
            ]
          },
          "metadata": {},
          "execution_count": 8
        }
      ],
      "source": [
        "df.isnull().sum()"
      ]
    },
    {
      "cell_type": "code",
      "execution_count": null,
      "metadata": {
        "id": "JQAKVYWHv-Le"
      },
      "outputs": [],
      "source": [
        "df = df.drop(('Unnamed: 0'), axis = 1)"
      ]
    },
    {
      "cell_type": "code",
      "execution_count": null,
      "metadata": {
        "colab": {
          "base_uri": "https://localhost:8080/",
          "height": 206
        },
        "id": "kyYyethlwH9B",
        "outputId": "bb30471f-3bc7-41a9-d488-90c0ca910bdd"
      },
      "outputs": [
        {
          "output_type": "execute_result",
          "data": {
            "text/plain": [
              "                   filename                                     Message-ID  \\\n",
              "0   arnold-j/_sent_mail/34.  <15267340.1075857594923.JavaMail.evans@thyme>   \n",
              "1  arnold-j/_sent_mail/517.  <15539583.1075857652152.JavaMail.evans@thyme>   \n",
              "2  arnold-j/_sent_mail/743.   <4339799.1075857657711.JavaMail.evans@thyme>   \n",
              "3  arnold-j/_sent_mail/766.  <25574783.1075857658215.JavaMail.evans@thyme>   \n",
              "4  arnold-j/_sent_mail/797.  <19506151.1075857658895.JavaMail.evans@thyme>   \n",
              "\n",
              "                                             content    Class  \n",
              "0  eat shit\\n\\n\\n\\n\\nJohn J Lavorato@excelr\\n11/1...  Abusive  \n",
              "1                                           fuck you  Abusive  \n",
              "2  Gentlemen:\\nThe following champagne is availab...  Abusive  \n",
              "3  sorry i've taken so long...just been trying to...  Abusive  \n",
              "4  asshole\\n\\n\\n\\n\\nJohn J Lavorato@excelr\\n12/23...  Abusive  "
            ],
            "text/html": [
              "\n",
              "  <div id=\"df-88e3caff-52c0-40a9-8316-5824e73b42c9\" class=\"colab-df-container\">\n",
              "    <div>\n",
              "<style scoped>\n",
              "    .dataframe tbody tr th:only-of-type {\n",
              "        vertical-align: middle;\n",
              "    }\n",
              "\n",
              "    .dataframe tbody tr th {\n",
              "        vertical-align: top;\n",
              "    }\n",
              "\n",
              "    .dataframe thead th {\n",
              "        text-align: right;\n",
              "    }\n",
              "</style>\n",
              "<table border=\"1\" class=\"dataframe\">\n",
              "  <thead>\n",
              "    <tr style=\"text-align: right;\">\n",
              "      <th></th>\n",
              "      <th>filename</th>\n",
              "      <th>Message-ID</th>\n",
              "      <th>content</th>\n",
              "      <th>Class</th>\n",
              "    </tr>\n",
              "  </thead>\n",
              "  <tbody>\n",
              "    <tr>\n",
              "      <th>0</th>\n",
              "      <td>arnold-j/_sent_mail/34.</td>\n",
              "      <td>&lt;15267340.1075857594923.JavaMail.evans@thyme&gt;</td>\n",
              "      <td>eat shit\\n\\n\\n\\n\\nJohn J Lavorato@excelr\\n11/1...</td>\n",
              "      <td>Abusive</td>\n",
              "    </tr>\n",
              "    <tr>\n",
              "      <th>1</th>\n",
              "      <td>arnold-j/_sent_mail/517.</td>\n",
              "      <td>&lt;15539583.1075857652152.JavaMail.evans@thyme&gt;</td>\n",
              "      <td>fuck you</td>\n",
              "      <td>Abusive</td>\n",
              "    </tr>\n",
              "    <tr>\n",
              "      <th>2</th>\n",
              "      <td>arnold-j/_sent_mail/743.</td>\n",
              "      <td>&lt;4339799.1075857657711.JavaMail.evans@thyme&gt;</td>\n",
              "      <td>Gentlemen:\\nThe following champagne is availab...</td>\n",
              "      <td>Abusive</td>\n",
              "    </tr>\n",
              "    <tr>\n",
              "      <th>3</th>\n",
              "      <td>arnold-j/_sent_mail/766.</td>\n",
              "      <td>&lt;25574783.1075857658215.JavaMail.evans@thyme&gt;</td>\n",
              "      <td>sorry i've taken so long...just been trying to...</td>\n",
              "      <td>Abusive</td>\n",
              "    </tr>\n",
              "    <tr>\n",
              "      <th>4</th>\n",
              "      <td>arnold-j/_sent_mail/797.</td>\n",
              "      <td>&lt;19506151.1075857658895.JavaMail.evans@thyme&gt;</td>\n",
              "      <td>asshole\\n\\n\\n\\n\\nJohn J Lavorato@excelr\\n12/23...</td>\n",
              "      <td>Abusive</td>\n",
              "    </tr>\n",
              "  </tbody>\n",
              "</table>\n",
              "</div>\n",
              "    <div class=\"colab-df-buttons\">\n",
              "\n",
              "  <div class=\"colab-df-container\">\n",
              "    <button class=\"colab-df-convert\" onclick=\"convertToInteractive('df-88e3caff-52c0-40a9-8316-5824e73b42c9')\"\n",
              "            title=\"Convert this dataframe to an interactive table.\"\n",
              "            style=\"display:none;\">\n",
              "\n",
              "  <svg xmlns=\"http://www.w3.org/2000/svg\" height=\"24px\" viewBox=\"0 -960 960 960\">\n",
              "    <path d=\"M120-120v-720h720v720H120Zm60-500h600v-160H180v160Zm220 220h160v-160H400v160Zm0 220h160v-160H400v160ZM180-400h160v-160H180v160Zm440 0h160v-160H620v160ZM180-180h160v-160H180v160Zm440 0h160v-160H620v160Z\"/>\n",
              "  </svg>\n",
              "    </button>\n",
              "\n",
              "  <style>\n",
              "    .colab-df-container {\n",
              "      display:flex;\n",
              "      gap: 12px;\n",
              "    }\n",
              "\n",
              "    .colab-df-convert {\n",
              "      background-color: #E8F0FE;\n",
              "      border: none;\n",
              "      border-radius: 50%;\n",
              "      cursor: pointer;\n",
              "      display: none;\n",
              "      fill: #1967D2;\n",
              "      height: 32px;\n",
              "      padding: 0 0 0 0;\n",
              "      width: 32px;\n",
              "    }\n",
              "\n",
              "    .colab-df-convert:hover {\n",
              "      background-color: #E2EBFA;\n",
              "      box-shadow: 0px 1px 2px rgba(60, 64, 67, 0.3), 0px 1px 3px 1px rgba(60, 64, 67, 0.15);\n",
              "      fill: #174EA6;\n",
              "    }\n",
              "\n",
              "    .colab-df-buttons div {\n",
              "      margin-bottom: 4px;\n",
              "    }\n",
              "\n",
              "    [theme=dark] .colab-df-convert {\n",
              "      background-color: #3B4455;\n",
              "      fill: #D2E3FC;\n",
              "    }\n",
              "\n",
              "    [theme=dark] .colab-df-convert:hover {\n",
              "      background-color: #434B5C;\n",
              "      box-shadow: 0px 1px 3px 1px rgba(0, 0, 0, 0.15);\n",
              "      filter: drop-shadow(0px 1px 2px rgba(0, 0, 0, 0.3));\n",
              "      fill: #FFFFFF;\n",
              "    }\n",
              "  </style>\n",
              "\n",
              "    <script>\n",
              "      const buttonEl =\n",
              "        document.querySelector('#df-88e3caff-52c0-40a9-8316-5824e73b42c9 button.colab-df-convert');\n",
              "      buttonEl.style.display =\n",
              "        google.colab.kernel.accessAllowed ? 'block' : 'none';\n",
              "\n",
              "      async function convertToInteractive(key) {\n",
              "        const element = document.querySelector('#df-88e3caff-52c0-40a9-8316-5824e73b42c9');\n",
              "        const dataTable =\n",
              "          await google.colab.kernel.invokeFunction('convertToInteractive',\n",
              "                                                    [key], {});\n",
              "        if (!dataTable) return;\n",
              "\n",
              "        const docLinkHtml = 'Like what you see? Visit the ' +\n",
              "          '<a target=\"_blank\" href=https://colab.research.google.com/notebooks/data_table.ipynb>data table notebook</a>'\n",
              "          + ' to learn more about interactive tables.';\n",
              "        element.innerHTML = '';\n",
              "        dataTable['output_type'] = 'display_data';\n",
              "        await google.colab.output.renderOutput(dataTable, element);\n",
              "        const docLink = document.createElement('div');\n",
              "        docLink.innerHTML = docLinkHtml;\n",
              "        element.appendChild(docLink);\n",
              "      }\n",
              "    </script>\n",
              "  </div>\n",
              "\n",
              "\n",
              "<div id=\"df-cc710266-461d-4ded-b897-6e98f4cffd4e\">\n",
              "  <button class=\"colab-df-quickchart\" onclick=\"quickchart('df-cc710266-461d-4ded-b897-6e98f4cffd4e')\"\n",
              "            title=\"Suggest charts\"\n",
              "            style=\"display:none;\">\n",
              "\n",
              "<svg xmlns=\"http://www.w3.org/2000/svg\" height=\"24px\"viewBox=\"0 0 24 24\"\n",
              "     width=\"24px\">\n",
              "    <g>\n",
              "        <path d=\"M19 3H5c-1.1 0-2 .9-2 2v14c0 1.1.9 2 2 2h14c1.1 0 2-.9 2-2V5c0-1.1-.9-2-2-2zM9 17H7v-7h2v7zm4 0h-2V7h2v10zm4 0h-2v-4h2v4z\"/>\n",
              "    </g>\n",
              "</svg>\n",
              "  </button>\n",
              "\n",
              "<style>\n",
              "  .colab-df-quickchart {\n",
              "      --bg-color: #E8F0FE;\n",
              "      --fill-color: #1967D2;\n",
              "      --hover-bg-color: #E2EBFA;\n",
              "      --hover-fill-color: #174EA6;\n",
              "      --disabled-fill-color: #AAA;\n",
              "      --disabled-bg-color: #DDD;\n",
              "  }\n",
              "\n",
              "  [theme=dark] .colab-df-quickchart {\n",
              "      --bg-color: #3B4455;\n",
              "      --fill-color: #D2E3FC;\n",
              "      --hover-bg-color: #434B5C;\n",
              "      --hover-fill-color: #FFFFFF;\n",
              "      --disabled-bg-color: #3B4455;\n",
              "      --disabled-fill-color: #666;\n",
              "  }\n",
              "\n",
              "  .colab-df-quickchart {\n",
              "    background-color: var(--bg-color);\n",
              "    border: none;\n",
              "    border-radius: 50%;\n",
              "    cursor: pointer;\n",
              "    display: none;\n",
              "    fill: var(--fill-color);\n",
              "    height: 32px;\n",
              "    padding: 0;\n",
              "    width: 32px;\n",
              "  }\n",
              "\n",
              "  .colab-df-quickchart:hover {\n",
              "    background-color: var(--hover-bg-color);\n",
              "    box-shadow: 0 1px 2px rgba(60, 64, 67, 0.3), 0 1px 3px 1px rgba(60, 64, 67, 0.15);\n",
              "    fill: var(--button-hover-fill-color);\n",
              "  }\n",
              "\n",
              "  .colab-df-quickchart-complete:disabled,\n",
              "  .colab-df-quickchart-complete:disabled:hover {\n",
              "    background-color: var(--disabled-bg-color);\n",
              "    fill: var(--disabled-fill-color);\n",
              "    box-shadow: none;\n",
              "  }\n",
              "\n",
              "  .colab-df-spinner {\n",
              "    border: 2px solid var(--fill-color);\n",
              "    border-color: transparent;\n",
              "    border-bottom-color: var(--fill-color);\n",
              "    animation:\n",
              "      spin 1s steps(1) infinite;\n",
              "  }\n",
              "\n",
              "  @keyframes spin {\n",
              "    0% {\n",
              "      border-color: transparent;\n",
              "      border-bottom-color: var(--fill-color);\n",
              "      border-left-color: var(--fill-color);\n",
              "    }\n",
              "    20% {\n",
              "      border-color: transparent;\n",
              "      border-left-color: var(--fill-color);\n",
              "      border-top-color: var(--fill-color);\n",
              "    }\n",
              "    30% {\n",
              "      border-color: transparent;\n",
              "      border-left-color: var(--fill-color);\n",
              "      border-top-color: var(--fill-color);\n",
              "      border-right-color: var(--fill-color);\n",
              "    }\n",
              "    40% {\n",
              "      border-color: transparent;\n",
              "      border-right-color: var(--fill-color);\n",
              "      border-top-color: var(--fill-color);\n",
              "    }\n",
              "    60% {\n",
              "      border-color: transparent;\n",
              "      border-right-color: var(--fill-color);\n",
              "    }\n",
              "    80% {\n",
              "      border-color: transparent;\n",
              "      border-right-color: var(--fill-color);\n",
              "      border-bottom-color: var(--fill-color);\n",
              "    }\n",
              "    90% {\n",
              "      border-color: transparent;\n",
              "      border-bottom-color: var(--fill-color);\n",
              "    }\n",
              "  }\n",
              "</style>\n",
              "\n",
              "  <script>\n",
              "    async function quickchart(key) {\n",
              "      const quickchartButtonEl =\n",
              "        document.querySelector('#' + key + ' button');\n",
              "      quickchartButtonEl.disabled = true;  // To prevent multiple clicks.\n",
              "      quickchartButtonEl.classList.add('colab-df-spinner');\n",
              "      try {\n",
              "        const charts = await google.colab.kernel.invokeFunction(\n",
              "            'suggestCharts', [key], {});\n",
              "      } catch (error) {\n",
              "        console.error('Error during call to suggestCharts:', error);\n",
              "      }\n",
              "      quickchartButtonEl.classList.remove('colab-df-spinner');\n",
              "      quickchartButtonEl.classList.add('colab-df-quickchart-complete');\n",
              "    }\n",
              "    (() => {\n",
              "      let quickchartButtonEl =\n",
              "        document.querySelector('#df-cc710266-461d-4ded-b897-6e98f4cffd4e button');\n",
              "      quickchartButtonEl.style.display =\n",
              "        google.colab.kernel.accessAllowed ? 'block' : 'none';\n",
              "    })();\n",
              "  </script>\n",
              "</div>\n",
              "\n",
              "    </div>\n",
              "  </div>\n"
            ],
            "application/vnd.google.colaboratory.intrinsic+json": {
              "type": "dataframe",
              "variable_name": "df",
              "summary": "{\n  \"name\": \"df\",\n  \"rows\": 48535,\n  \"fields\": [\n    {\n      \"column\": \"filename\",\n      \"properties\": {\n        \"dtype\": \"string\",\n        \"num_unique_values\": 48076,\n        \"samples\": [\n          \"dasovich-j/sent/1358.\",\n          \"baughman-d/discussion_threads/64.\",\n          \"bass-e/sent/909.\"\n        ],\n        \"semantic_type\": \"\",\n        \"description\": \"\"\n      }\n    },\n    {\n      \"column\": \"Message-ID\",\n      \"properties\": {\n        \"dtype\": \"string\",\n        \"num_unique_values\": 48076,\n        \"samples\": [\n          \"<6040499.1075843217211.JavaMail.evans@thyme>\",\n          \"<15504999.1075848322807.JavaMail.evans@thyme>\",\n          \"<33022878.1075854706185.JavaMail.evans@thyme>\"\n        ],\n        \"semantic_type\": \"\",\n        \"description\": \"\"\n      }\n    },\n    {\n      \"column\": \"content\",\n      \"properties\": {\n        \"dtype\": \"string\",\n        \"num_unique_values\": 24657,\n        \"samples\": [\n          \"\\nSandra,\\n\\nHere is the telephone number to the place that Ken Logsdon works.  The guy listed at the bottom works for Ken.\\n -----Original Message-----\\nFrom: \\t\\\"Steve Bennotti\\\" <sbenott@firstunion1.com>@excelr  \\nSent:\\tMonday, January 14, 2002 9:23 AM\\nTo:\\tundisclosed-recipients:;@excelr\\nSubject:\\tRE: On Line Access to View Your Account.\\n\\nFirst Union has changed the on-line enrollment process. All you need to do is to go to www.firstunionsec.com, click on the \\\"Enroll for access online\\\", You will then be required to call 1-877-879-2495. They will set you up with pin numbers, etc.\\nYou only need to call if you are not on-line or you need to add an account for you to view.. If you prefer, we can do a conference call with First Union to set up the account.\\n\\nPlease give us a call with any questions. The process should take approx. 5 minutes.\\n\\nTake Care and Have a good week,\\n\\n\\nStephen M. Benotti\\nFinancial Consultant\\nEmery Financial Group\\n713-853-2388 (Direct)\\n866-753-9556\\n713-853-2366 (Fax)\\nsbenott@firstunion1.com\",\n          \"\\nUPDATE ON GRAEME WHITE\\n\\nWe are pleased to be able to give you a progress report on the condition of Graeme White who was injured in Wednesday's explosion at Teesside Power Station.  Graeme has now been moved from the Intensive Care Unit at Middlesbrough General Hospital to Ward 46 - a specialised skincare unit - where he is receiving treatment for burns.  He has been able to open his eyes now and is taking food.  His condition is still described as \\\"stable\\\".\\n\\nPlease don't send flowers, but cards and messages for Graeme will be welcome.  They should be sent to the address below or c/o Julie Webster at excelr's Stockton office who will ensure they are promptly delivered.\\n\\nGraeme was visited last night by Jeff Skilling and Brian Stanley and they also met members of his family.  Other colleagues planning a visit should contact Julie Webster (+44 1642 623004) or Graham Moore (+44 1642 442133) who are coordinating the program.\\n\\nAddress for cards and messages:\\n\\nGraeme White\\nWard 46\\nMiddlesbrough General Hospital\\nAyresome Green Lane\\nMiddlesbrough  TS5 5AZ\\nUK\\n\\nJulie Webster\\nexcelr Power Operations Ltd.,\\nMerchants Wharf\\nWestpoint Road\\nStockton on Tees\\nCleveland TS17 6BF\\nUK\\n\\nWith thanks,\\nSteve Roy\",\n          \"here is the house that I was talking about\\n\\nhttp://www.har.com/search/condo/indexdetail.cfm?mlnum=533930\"\n        ],\n        \"semantic_type\": \"\",\n        \"description\": \"\"\n      }\n    },\n    {\n      \"column\": \"Class\",\n      \"properties\": {\n        \"dtype\": \"category\",\n        \"num_unique_values\": 2,\n        \"samples\": [\n          \"Non Abusive\",\n          \"Abusive\"\n        ],\n        \"semantic_type\": \"\",\n        \"description\": \"\"\n      }\n    }\n  ]\n}"
            }
          },
          "metadata": {},
          "execution_count": 10
        }
      ],
      "source": [
        "df.head()"
      ]
    },
    {
      "cell_type": "code",
      "execution_count": null,
      "metadata": {
        "colab": {
          "base_uri": "https://localhost:8080/"
        },
        "id": "-UgDYDD0wNiO",
        "outputId": "cea0243b-f43b-4a6f-f0de-a3acaf8c6442"
      },
      "outputs": [
        {
          "output_type": "execute_result",
          "data": {
            "text/plain": [
              "(48535, 4)"
            ]
          },
          "metadata": {},
          "execution_count": 11
        }
      ],
      "source": [
        "df.shape"
      ]
    },
    {
      "cell_type": "code",
      "execution_count": null,
      "metadata": {
        "colab": {
          "base_uri": "https://localhost:8080/",
          "height": 458
        },
        "id": "0UEEMFrYwO4s",
        "outputId": "07442ef4-4b50-4a92-e0d3-740fd5b37003"
      },
      "outputs": [
        {
          "output_type": "execute_result",
          "data": {
            "text/plain": [
              "0            Abusive\n",
              "1            Abusive\n",
              "2            Abusive\n",
              "3            Abusive\n",
              "4            Abusive\n",
              "            ...     \n",
              "48530    Non Abusive\n",
              "48531    Non Abusive\n",
              "48532    Non Abusive\n",
              "48533    Non Abusive\n",
              "48534    Non Abusive\n",
              "Name: Class, Length: 48535, dtype: object"
            ],
            "text/html": [
              "<div>\n",
              "<style scoped>\n",
              "    .dataframe tbody tr th:only-of-type {\n",
              "        vertical-align: middle;\n",
              "    }\n",
              "\n",
              "    .dataframe tbody tr th {\n",
              "        vertical-align: top;\n",
              "    }\n",
              "\n",
              "    .dataframe thead th {\n",
              "        text-align: right;\n",
              "    }\n",
              "</style>\n",
              "<table border=\"1\" class=\"dataframe\">\n",
              "  <thead>\n",
              "    <tr style=\"text-align: right;\">\n",
              "      <th></th>\n",
              "      <th>Class</th>\n",
              "    </tr>\n",
              "  </thead>\n",
              "  <tbody>\n",
              "    <tr>\n",
              "      <th>0</th>\n",
              "      <td>Abusive</td>\n",
              "    </tr>\n",
              "    <tr>\n",
              "      <th>1</th>\n",
              "      <td>Abusive</td>\n",
              "    </tr>\n",
              "    <tr>\n",
              "      <th>2</th>\n",
              "      <td>Abusive</td>\n",
              "    </tr>\n",
              "    <tr>\n",
              "      <th>3</th>\n",
              "      <td>Abusive</td>\n",
              "    </tr>\n",
              "    <tr>\n",
              "      <th>4</th>\n",
              "      <td>Abusive</td>\n",
              "    </tr>\n",
              "    <tr>\n",
              "      <th>...</th>\n",
              "      <td>...</td>\n",
              "    </tr>\n",
              "    <tr>\n",
              "      <th>48530</th>\n",
              "      <td>Non Abusive</td>\n",
              "    </tr>\n",
              "    <tr>\n",
              "      <th>48531</th>\n",
              "      <td>Non Abusive</td>\n",
              "    </tr>\n",
              "    <tr>\n",
              "      <th>48532</th>\n",
              "      <td>Non Abusive</td>\n",
              "    </tr>\n",
              "    <tr>\n",
              "      <th>48533</th>\n",
              "      <td>Non Abusive</td>\n",
              "    </tr>\n",
              "    <tr>\n",
              "      <th>48534</th>\n",
              "      <td>Non Abusive</td>\n",
              "    </tr>\n",
              "  </tbody>\n",
              "</table>\n",
              "<p>48535 rows × 1 columns</p>\n",
              "</div><br><label><b>dtype:</b> object</label>"
            ]
          },
          "metadata": {},
          "execution_count": 12
        }
      ],
      "source": [
        "df['Class']"
      ]
    },
    {
      "cell_type": "code",
      "execution_count": null,
      "metadata": {
        "colab": {
          "base_uri": "https://localhost:8080/"
        },
        "id": "qot0nGfKwdD6",
        "outputId": "840ea7fc-9e58-41f0-806f-10c102afc044"
      },
      "outputs": [
        {
          "output_type": "stream",
          "name": "stderr",
          "text": [
            "[nltk_data] Downloading package stopwords to /root/nltk_data...\n",
            "[nltk_data]   Package stopwords is already up-to-date!\n",
            "[nltk_data] Downloading package wordnet to /root/nltk_data...\n",
            "[nltk_data]   Package wordnet is already up-to-date!\n"
          ]
        }
      ],
      "source": [
        "nltk.download('stopwords')\n",
        "nltk.download('wordnet')\n",
        "\n",
        "stemmer = PorterStemmer() # Changed 'Stemmer' to 'stemmer'\n",
        "lemmatizer = WordNetLemmatizer() # Changed 'Lemmatizer' to 'lemmatizer'\n",
        "stop_word = set(stopwords.words('english')) # Changed 'word' to 'words'\n",
        "\n",
        "def preprocess_text(text):\n",
        "    text = re.sub(r'[^\\w\\s]', '', text).lower()\n",
        "    tokenized_text = text.split()\n",
        "    tokens = [word for word in tokenized_text if word not in stop_word]\n",
        "    tokens = [stemmer.stem(word) for word in tokens]\n",
        "    tokens = [lemmatizer.lemmatize(word) for word in tokens]\n",
        "    return ' '.join(tokens)  # Fixed joining issue\n",
        "\n",
        "df['clean_text'] = df['content'].apply(preprocess_text)"
      ]
    },
    {
      "cell_type": "code",
      "execution_count": null,
      "metadata": {
        "colab": {
          "base_uri": "https://localhost:8080/",
          "height": 206
        },
        "id": "tnK0k89lzOGQ",
        "outputId": "8b5263d3-a1c1-4db2-e693-fd7a7c27680e"
      },
      "outputs": [
        {
          "output_type": "execute_result",
          "data": {
            "text/plain": [
              "                   filename                                     Message-ID  \\\n",
              "0   arnold-j/_sent_mail/34.  <15267340.1075857594923.JavaMail.evans@thyme>   \n",
              "1  arnold-j/_sent_mail/517.  <15539583.1075857652152.JavaMail.evans@thyme>   \n",
              "2  arnold-j/_sent_mail/743.   <4339799.1075857657711.JavaMail.evans@thyme>   \n",
              "3  arnold-j/_sent_mail/766.  <25574783.1075857658215.JavaMail.evans@thyme>   \n",
              "4  arnold-j/_sent_mail/797.  <19506151.1075857658895.JavaMail.evans@thyme>   \n",
              "\n",
              "                                             content    Class  \\\n",
              "0  eat shit\\n\\n\\n\\n\\nJohn J Lavorato@excelr\\n11/1...  Abusive   \n",
              "1                                           fuck you  Abusive   \n",
              "2  Gentlemen:\\nThe following champagne is availab...  Abusive   \n",
              "3  sorry i've taken so long...just been trying to...  Abusive   \n",
              "4  asshole\\n\\n\\n\\n\\nJohn J Lavorato@excelr\\n12/23...  Abusive   \n",
              "\n",
              "                                          clean_text  \n",
              "0  eat shit john j lavoratoexcelr 11182000 0101 p...  \n",
              "1                                               fuck  \n",
              "2  gentleman follow champagn avail 70 approxim re...  \n",
              "3  sorri ive taken longjust tri fend chick life s...  \n",
              "4  asshol john j lavoratoexcelr 12232000 1051 joh...  "
            ],
            "text/html": [
              "\n",
              "  <div id=\"df-9782b00c-541c-4781-ab40-db0511bf2044\" class=\"colab-df-container\">\n",
              "    <div>\n",
              "<style scoped>\n",
              "    .dataframe tbody tr th:only-of-type {\n",
              "        vertical-align: middle;\n",
              "    }\n",
              "\n",
              "    .dataframe tbody tr th {\n",
              "        vertical-align: top;\n",
              "    }\n",
              "\n",
              "    .dataframe thead th {\n",
              "        text-align: right;\n",
              "    }\n",
              "</style>\n",
              "<table border=\"1\" class=\"dataframe\">\n",
              "  <thead>\n",
              "    <tr style=\"text-align: right;\">\n",
              "      <th></th>\n",
              "      <th>filename</th>\n",
              "      <th>Message-ID</th>\n",
              "      <th>content</th>\n",
              "      <th>Class</th>\n",
              "      <th>clean_text</th>\n",
              "    </tr>\n",
              "  </thead>\n",
              "  <tbody>\n",
              "    <tr>\n",
              "      <th>0</th>\n",
              "      <td>arnold-j/_sent_mail/34.</td>\n",
              "      <td>&lt;15267340.1075857594923.JavaMail.evans@thyme&gt;</td>\n",
              "      <td>eat shit\\n\\n\\n\\n\\nJohn J Lavorato@excelr\\n11/1...</td>\n",
              "      <td>Abusive</td>\n",
              "      <td>eat shit john j lavoratoexcelr 11182000 0101 p...</td>\n",
              "    </tr>\n",
              "    <tr>\n",
              "      <th>1</th>\n",
              "      <td>arnold-j/_sent_mail/517.</td>\n",
              "      <td>&lt;15539583.1075857652152.JavaMail.evans@thyme&gt;</td>\n",
              "      <td>fuck you</td>\n",
              "      <td>Abusive</td>\n",
              "      <td>fuck</td>\n",
              "    </tr>\n",
              "    <tr>\n",
              "      <th>2</th>\n",
              "      <td>arnold-j/_sent_mail/743.</td>\n",
              "      <td>&lt;4339799.1075857657711.JavaMail.evans@thyme&gt;</td>\n",
              "      <td>Gentlemen:\\nThe following champagne is availab...</td>\n",
              "      <td>Abusive</td>\n",
              "      <td>gentleman follow champagn avail 70 approxim re...</td>\n",
              "    </tr>\n",
              "    <tr>\n",
              "      <th>3</th>\n",
              "      <td>arnold-j/_sent_mail/766.</td>\n",
              "      <td>&lt;25574783.1075857658215.JavaMail.evans@thyme&gt;</td>\n",
              "      <td>sorry i've taken so long...just been trying to...</td>\n",
              "      <td>Abusive</td>\n",
              "      <td>sorri ive taken longjust tri fend chick life s...</td>\n",
              "    </tr>\n",
              "    <tr>\n",
              "      <th>4</th>\n",
              "      <td>arnold-j/_sent_mail/797.</td>\n",
              "      <td>&lt;19506151.1075857658895.JavaMail.evans@thyme&gt;</td>\n",
              "      <td>asshole\\n\\n\\n\\n\\nJohn J Lavorato@excelr\\n12/23...</td>\n",
              "      <td>Abusive</td>\n",
              "      <td>asshol john j lavoratoexcelr 12232000 1051 joh...</td>\n",
              "    </tr>\n",
              "  </tbody>\n",
              "</table>\n",
              "</div>\n",
              "    <div class=\"colab-df-buttons\">\n",
              "\n",
              "  <div class=\"colab-df-container\">\n",
              "    <button class=\"colab-df-convert\" onclick=\"convertToInteractive('df-9782b00c-541c-4781-ab40-db0511bf2044')\"\n",
              "            title=\"Convert this dataframe to an interactive table.\"\n",
              "            style=\"display:none;\">\n",
              "\n",
              "  <svg xmlns=\"http://www.w3.org/2000/svg\" height=\"24px\" viewBox=\"0 -960 960 960\">\n",
              "    <path d=\"M120-120v-720h720v720H120Zm60-500h600v-160H180v160Zm220 220h160v-160H400v160Zm0 220h160v-160H400v160ZM180-400h160v-160H180v160Zm440 0h160v-160H620v160ZM180-180h160v-160H180v160Zm440 0h160v-160H620v160Z\"/>\n",
              "  </svg>\n",
              "    </button>\n",
              "\n",
              "  <style>\n",
              "    .colab-df-container {\n",
              "      display:flex;\n",
              "      gap: 12px;\n",
              "    }\n",
              "\n",
              "    .colab-df-convert {\n",
              "      background-color: #E8F0FE;\n",
              "      border: none;\n",
              "      border-radius: 50%;\n",
              "      cursor: pointer;\n",
              "      display: none;\n",
              "      fill: #1967D2;\n",
              "      height: 32px;\n",
              "      padding: 0 0 0 0;\n",
              "      width: 32px;\n",
              "    }\n",
              "\n",
              "    .colab-df-convert:hover {\n",
              "      background-color: #E2EBFA;\n",
              "      box-shadow: 0px 1px 2px rgba(60, 64, 67, 0.3), 0px 1px 3px 1px rgba(60, 64, 67, 0.15);\n",
              "      fill: #174EA6;\n",
              "    }\n",
              "\n",
              "    .colab-df-buttons div {\n",
              "      margin-bottom: 4px;\n",
              "    }\n",
              "\n",
              "    [theme=dark] .colab-df-convert {\n",
              "      background-color: #3B4455;\n",
              "      fill: #D2E3FC;\n",
              "    }\n",
              "\n",
              "    [theme=dark] .colab-df-convert:hover {\n",
              "      background-color: #434B5C;\n",
              "      box-shadow: 0px 1px 3px 1px rgba(0, 0, 0, 0.15);\n",
              "      filter: drop-shadow(0px 1px 2px rgba(0, 0, 0, 0.3));\n",
              "      fill: #FFFFFF;\n",
              "    }\n",
              "  </style>\n",
              "\n",
              "    <script>\n",
              "      const buttonEl =\n",
              "        document.querySelector('#df-9782b00c-541c-4781-ab40-db0511bf2044 button.colab-df-convert');\n",
              "      buttonEl.style.display =\n",
              "        google.colab.kernel.accessAllowed ? 'block' : 'none';\n",
              "\n",
              "      async function convertToInteractive(key) {\n",
              "        const element = document.querySelector('#df-9782b00c-541c-4781-ab40-db0511bf2044');\n",
              "        const dataTable =\n",
              "          await google.colab.kernel.invokeFunction('convertToInteractive',\n",
              "                                                    [key], {});\n",
              "        if (!dataTable) return;\n",
              "\n",
              "        const docLinkHtml = 'Like what you see? Visit the ' +\n",
              "          '<a target=\"_blank\" href=https://colab.research.google.com/notebooks/data_table.ipynb>data table notebook</a>'\n",
              "          + ' to learn more about interactive tables.';\n",
              "        element.innerHTML = '';\n",
              "        dataTable['output_type'] = 'display_data';\n",
              "        await google.colab.output.renderOutput(dataTable, element);\n",
              "        const docLink = document.createElement('div');\n",
              "        docLink.innerHTML = docLinkHtml;\n",
              "        element.appendChild(docLink);\n",
              "      }\n",
              "    </script>\n",
              "  </div>\n",
              "\n",
              "\n",
              "<div id=\"df-8d0df478-1b08-46ce-9618-d8ceacb04b21\">\n",
              "  <button class=\"colab-df-quickchart\" onclick=\"quickchart('df-8d0df478-1b08-46ce-9618-d8ceacb04b21')\"\n",
              "            title=\"Suggest charts\"\n",
              "            style=\"display:none;\">\n",
              "\n",
              "<svg xmlns=\"http://www.w3.org/2000/svg\" height=\"24px\"viewBox=\"0 0 24 24\"\n",
              "     width=\"24px\">\n",
              "    <g>\n",
              "        <path d=\"M19 3H5c-1.1 0-2 .9-2 2v14c0 1.1.9 2 2 2h14c1.1 0 2-.9 2-2V5c0-1.1-.9-2-2-2zM9 17H7v-7h2v7zm4 0h-2V7h2v10zm4 0h-2v-4h2v4z\"/>\n",
              "    </g>\n",
              "</svg>\n",
              "  </button>\n",
              "\n",
              "<style>\n",
              "  .colab-df-quickchart {\n",
              "      --bg-color: #E8F0FE;\n",
              "      --fill-color: #1967D2;\n",
              "      --hover-bg-color: #E2EBFA;\n",
              "      --hover-fill-color: #174EA6;\n",
              "      --disabled-fill-color: #AAA;\n",
              "      --disabled-bg-color: #DDD;\n",
              "  }\n",
              "\n",
              "  [theme=dark] .colab-df-quickchart {\n",
              "      --bg-color: #3B4455;\n",
              "      --fill-color: #D2E3FC;\n",
              "      --hover-bg-color: #434B5C;\n",
              "      --hover-fill-color: #FFFFFF;\n",
              "      --disabled-bg-color: #3B4455;\n",
              "      --disabled-fill-color: #666;\n",
              "  }\n",
              "\n",
              "  .colab-df-quickchart {\n",
              "    background-color: var(--bg-color);\n",
              "    border: none;\n",
              "    border-radius: 50%;\n",
              "    cursor: pointer;\n",
              "    display: none;\n",
              "    fill: var(--fill-color);\n",
              "    height: 32px;\n",
              "    padding: 0;\n",
              "    width: 32px;\n",
              "  }\n",
              "\n",
              "  .colab-df-quickchart:hover {\n",
              "    background-color: var(--hover-bg-color);\n",
              "    box-shadow: 0 1px 2px rgba(60, 64, 67, 0.3), 0 1px 3px 1px rgba(60, 64, 67, 0.15);\n",
              "    fill: var(--button-hover-fill-color);\n",
              "  }\n",
              "\n",
              "  .colab-df-quickchart-complete:disabled,\n",
              "  .colab-df-quickchart-complete:disabled:hover {\n",
              "    background-color: var(--disabled-bg-color);\n",
              "    fill: var(--disabled-fill-color);\n",
              "    box-shadow: none;\n",
              "  }\n",
              "\n",
              "  .colab-df-spinner {\n",
              "    border: 2px solid var(--fill-color);\n",
              "    border-color: transparent;\n",
              "    border-bottom-color: var(--fill-color);\n",
              "    animation:\n",
              "      spin 1s steps(1) infinite;\n",
              "  }\n",
              "\n",
              "  @keyframes spin {\n",
              "    0% {\n",
              "      border-color: transparent;\n",
              "      border-bottom-color: var(--fill-color);\n",
              "      border-left-color: var(--fill-color);\n",
              "    }\n",
              "    20% {\n",
              "      border-color: transparent;\n",
              "      border-left-color: var(--fill-color);\n",
              "      border-top-color: var(--fill-color);\n",
              "    }\n",
              "    30% {\n",
              "      border-color: transparent;\n",
              "      border-left-color: var(--fill-color);\n",
              "      border-top-color: var(--fill-color);\n",
              "      border-right-color: var(--fill-color);\n",
              "    }\n",
              "    40% {\n",
              "      border-color: transparent;\n",
              "      border-right-color: var(--fill-color);\n",
              "      border-top-color: var(--fill-color);\n",
              "    }\n",
              "    60% {\n",
              "      border-color: transparent;\n",
              "      border-right-color: var(--fill-color);\n",
              "    }\n",
              "    80% {\n",
              "      border-color: transparent;\n",
              "      border-right-color: var(--fill-color);\n",
              "      border-bottom-color: var(--fill-color);\n",
              "    }\n",
              "    90% {\n",
              "      border-color: transparent;\n",
              "      border-bottom-color: var(--fill-color);\n",
              "    }\n",
              "  }\n",
              "</style>\n",
              "\n",
              "  <script>\n",
              "    async function quickchart(key) {\n",
              "      const quickchartButtonEl =\n",
              "        document.querySelector('#' + key + ' button');\n",
              "      quickchartButtonEl.disabled = true;  // To prevent multiple clicks.\n",
              "      quickchartButtonEl.classList.add('colab-df-spinner');\n",
              "      try {\n",
              "        const charts = await google.colab.kernel.invokeFunction(\n",
              "            'suggestCharts', [key], {});\n",
              "      } catch (error) {\n",
              "        console.error('Error during call to suggestCharts:', error);\n",
              "      }\n",
              "      quickchartButtonEl.classList.remove('colab-df-spinner');\n",
              "      quickchartButtonEl.classList.add('colab-df-quickchart-complete');\n",
              "    }\n",
              "    (() => {\n",
              "      let quickchartButtonEl =\n",
              "        document.querySelector('#df-8d0df478-1b08-46ce-9618-d8ceacb04b21 button');\n",
              "      quickchartButtonEl.style.display =\n",
              "        google.colab.kernel.accessAllowed ? 'block' : 'none';\n",
              "    })();\n",
              "  </script>\n",
              "</div>\n",
              "\n",
              "    </div>\n",
              "  </div>\n"
            ],
            "application/vnd.google.colaboratory.intrinsic+json": {
              "type": "dataframe",
              "variable_name": "df",
              "summary": "{\n  \"name\": \"df\",\n  \"rows\": 48535,\n  \"fields\": [\n    {\n      \"column\": \"filename\",\n      \"properties\": {\n        \"dtype\": \"string\",\n        \"num_unique_values\": 48076,\n        \"samples\": [\n          \"dasovich-j/sent/1358.\",\n          \"baughman-d/discussion_threads/64.\",\n          \"bass-e/sent/909.\"\n        ],\n        \"semantic_type\": \"\",\n        \"description\": \"\"\n      }\n    },\n    {\n      \"column\": \"Message-ID\",\n      \"properties\": {\n        \"dtype\": \"string\",\n        \"num_unique_values\": 48076,\n        \"samples\": [\n          \"<6040499.1075843217211.JavaMail.evans@thyme>\",\n          \"<15504999.1075848322807.JavaMail.evans@thyme>\",\n          \"<33022878.1075854706185.JavaMail.evans@thyme>\"\n        ],\n        \"semantic_type\": \"\",\n        \"description\": \"\"\n      }\n    },\n    {\n      \"column\": \"content\",\n      \"properties\": {\n        \"dtype\": \"string\",\n        \"num_unique_values\": 24657,\n        \"samples\": [\n          \"\\nSandra,\\n\\nHere is the telephone number to the place that Ken Logsdon works.  The guy listed at the bottom works for Ken.\\n -----Original Message-----\\nFrom: \\t\\\"Steve Bennotti\\\" <sbenott@firstunion1.com>@excelr  \\nSent:\\tMonday, January 14, 2002 9:23 AM\\nTo:\\tundisclosed-recipients:;@excelr\\nSubject:\\tRE: On Line Access to View Your Account.\\n\\nFirst Union has changed the on-line enrollment process. All you need to do is to go to www.firstunionsec.com, click on the \\\"Enroll for access online\\\", You will then be required to call 1-877-879-2495. They will set you up with pin numbers, etc.\\nYou only need to call if you are not on-line or you need to add an account for you to view.. If you prefer, we can do a conference call with First Union to set up the account.\\n\\nPlease give us a call with any questions. The process should take approx. 5 minutes.\\n\\nTake Care and Have a good week,\\n\\n\\nStephen M. Benotti\\nFinancial Consultant\\nEmery Financial Group\\n713-853-2388 (Direct)\\n866-753-9556\\n713-853-2366 (Fax)\\nsbenott@firstunion1.com\",\n          \"\\nUPDATE ON GRAEME WHITE\\n\\nWe are pleased to be able to give you a progress report on the condition of Graeme White who was injured in Wednesday's explosion at Teesside Power Station.  Graeme has now been moved from the Intensive Care Unit at Middlesbrough General Hospital to Ward 46 - a specialised skincare unit - where he is receiving treatment for burns.  He has been able to open his eyes now and is taking food.  His condition is still described as \\\"stable\\\".\\n\\nPlease don't send flowers, but cards and messages for Graeme will be welcome.  They should be sent to the address below or c/o Julie Webster at excelr's Stockton office who will ensure they are promptly delivered.\\n\\nGraeme was visited last night by Jeff Skilling and Brian Stanley and they also met members of his family.  Other colleagues planning a visit should contact Julie Webster (+44 1642 623004) or Graham Moore (+44 1642 442133) who are coordinating the program.\\n\\nAddress for cards and messages:\\n\\nGraeme White\\nWard 46\\nMiddlesbrough General Hospital\\nAyresome Green Lane\\nMiddlesbrough  TS5 5AZ\\nUK\\n\\nJulie Webster\\nexcelr Power Operations Ltd.,\\nMerchants Wharf\\nWestpoint Road\\nStockton on Tees\\nCleveland TS17 6BF\\nUK\\n\\nWith thanks,\\nSteve Roy\",\n          \"here is the house that I was talking about\\n\\nhttp://www.har.com/search/condo/indexdetail.cfm?mlnum=533930\"\n        ],\n        \"semantic_type\": \"\",\n        \"description\": \"\"\n      }\n    },\n    {\n      \"column\": \"Class\",\n      \"properties\": {\n        \"dtype\": \"category\",\n        \"num_unique_values\": 2,\n        \"samples\": [\n          \"Non Abusive\",\n          \"Abusive\"\n        ],\n        \"semantic_type\": \"\",\n        \"description\": \"\"\n      }\n    },\n    {\n      \"column\": \"clean_text\",\n      \"properties\": {\n        \"dtype\": \"category\",\n        \"num_unique_values\": 23952,\n        \"samples\": [\n          \"new reserv confirm rest month western mdea number 1023158 daili nonfirm network 30 mgw\",\n          \"hey ericsorri delay sent brother email right got one say unfortun wasnt go abl make bc start new job unfortun abl ask wed weekend long enough sentenc thank invit definit make loss wed let know anyth el way regist know let know thank jeff origin messag bass eric ericbassexcelrcom smacfarlandgpchorg smacfarlandgpchorg jayandemearthlinknet jayandemearthlinknet tommybomb88hotmailcom tommybomb88hotmailcom sent tuesday januari 08 2002 1050 subject fw jason bachelor parti still havent heard guy regard bachelor parti let know origin messag bass eric sent friday januari 04 2002 1236 pm smacfarlandgpchorg jayandemearthlinknet lqcolomboaolcom dad email tommybomb88hotmailcom billybrown2compaqcom mballaseshotmailcom cc jason bass email subject jason bachelor parti time final come u mourn loss anoth one fallen brother ye jason bass brother get marri feb 2 mind time set festiv bachelor parti parti saturday jan 19 think take gamblingdrink cruis freeport 30 min south houston call texa treasur wwwtxtreasurecom cost run 50 person cruis drink gourmet dinner includ 35person drink buffet dinner let know one would prefer person prefer better dinner gambl expens includ calcul cruis sail 7pm 1am let know make choic dinner would like asap make arrang eric email properti excelr corp andor relev affili may contain confidenti privileg materi sole use intend recipi review use distribut disclosur other strictli prohibit intend recipi author receiv recipi plea contact sender repli excelr corp excelrmessagingadministrationexcelrcom delet copi messag email attach hereto intend offer accept creat evid bind enforc contract excelr corp affili intend recipi parti may reli anyon basi contract estoppel otherwis thank\"\n        ],\n        \"semantic_type\": \"\",\n        \"description\": \"\"\n      }\n    }\n  ]\n}"
            }
          },
          "metadata": {},
          "execution_count": 14
        }
      ],
      "source": [
        "df.head()"
      ]
    },
    {
      "cell_type": "code",
      "execution_count": null,
      "metadata": {
        "colab": {
          "base_uri": "https://localhost:8080/",
          "height": 472
        },
        "id": "szk1sEXP3_HO",
        "outputId": "35437af3-dc4c-467a-be65-2a8508396fbb"
      },
      "outputs": [
        {
          "output_type": "display_data",
          "data": {
            "text/plain": [
              "<Figure size 640x480 with 1 Axes>"
            ],
            "image/png": "[encoded data removed]"
          },
          "metadata": {}
        }
      ],
      "source": [
        "sns.countplot(df['Class'])\n",
        "plt.title('Abusive vs Non Abusive')\n",
        "plt.show()"
      ]
    },
    {
      "cell_type": "code",
      "execution_count": null,
      "metadata": {
        "colab": {
          "base_uri": "https://localhost:8080/"
        },
        "id": "es2A5gO399Au",
        "outputId": "7f8510d2-c241-44c2-e3c6-ef53ad26e86b"
      },
      "outputs": [
        {
          "output_type": "stream",
          "name": "stdout",
          "text": [
            "Class\n",
            "Non Abusive    45125\n",
            "Abusive         3410\n",
            "Name: count, dtype: int64\n"
          ]
        }
      ],
      "source": [
        "print(df['Class'].value_counts())  # Print the counts of each unique value in the 'Class' column"
      ]
    },
    {
      "cell_type": "code",
      "source": [
        "x = df['clean_text']\n",
        "vectorizer = TfidfVectorizer(max_features=5000)\n",
        "x_tfidf = vectorizer.fit_transform(x)"
      ],
      "metadata": {
        "id": "fsU7k-x37wwa"
      },
      "execution_count": null,
      "outputs": []
    },
    {
      "cell_type": "code",
      "source": [
        "from sklearn.preprocessing import LabelEncoder\n",
        "le = LabelEncoder()\n",
        "df['Class'] = le.fit_transform(df['Class'])\n",
        "y = df['Class']"
      ],
      "metadata": {
        "id": "U2WScrMG73Ui"
      },
      "execution_count": null,
      "outputs": []
    },
    {
      "cell_type": "code",
      "execution_count": null,
      "metadata": {
        "id": "-mC-BFfNn5fn"
      },
      "outputs": [],
      "source": [
        "# encoder = OneHotEncoder()\n",
        "# encoded_labels = encoder.fit_transform(df[['Class']]).toarray()\n",
        "\n",
        "# # Convert back to DataFrame and concatenate with the original DataFrame\n",
        "# df_encoded = pd.DataFrame(encoded_labels, columns=encoder.get_feature_names_out(['Class']))\n",
        "# df = pd.concat([df,df_encoded], axis=1)\n",
        "\n",
        "# df.drop('Class', axis=1, inplace=True)\n"
      ]
    },
    {
      "cell_type": "code",
      "execution_count": null,
      "metadata": {
        "colab": {
          "base_uri": "https://localhost:8080/",
          "height": 206
        },
        "id": "d3ibDoWvrjBO",
        "outputId": "23d21164-2ca6-4d69-c360-e85e30fc6e7f"
      },
      "outputs": [
        {
          "output_type": "execute_result",
          "data": {
            "text/plain": [
              "                   filename                                     Message-ID  \\\n",
              "0   arnold-j/_sent_mail/34.  <15267340.1075857594923.JavaMail.evans@thyme>   \n",
              "1  arnold-j/_sent_mail/517.  <15539583.1075857652152.JavaMail.evans@thyme>   \n",
              "2  arnold-j/_sent_mail/743.   <4339799.1075857657711.JavaMail.evans@thyme>   \n",
              "3  arnold-j/_sent_mail/766.  <25574783.1075857658215.JavaMail.evans@thyme>   \n",
              "4  arnold-j/_sent_mail/797.  <19506151.1075857658895.JavaMail.evans@thyme>   \n",
              "\n",
              "                                             content  Class  \\\n",
              "0  eat shit\\n\\n\\n\\n\\nJohn J Lavorato@excelr\\n11/1...      0   \n",
              "1                                           fuck you      0   \n",
              "2  Gentlemen:\\nThe following champagne is availab...      0   \n",
              "3  sorry i've taken so long...just been trying to...      0   \n",
              "4  asshole\\n\\n\\n\\n\\nJohn J Lavorato@excelr\\n12/23...      0   \n",
              "\n",
              "                                          clean_text  \n",
              "0  eat shit john j lavoratoexcelr 11182000 0101 p...  \n",
              "1                                               fuck  \n",
              "2  gentleman follow champagn avail 70 approxim re...  \n",
              "3  sorri ive taken longjust tri fend chick life s...  \n",
              "4  asshol john j lavoratoexcelr 12232000 1051 joh...  "
            ],
            "text/html": [
              "\n",
              "  <div id=\"df-60740820-9d5f-491b-bdb4-d0b1c7aa0a10\" class=\"colab-df-container\">\n",
              "    <div>\n",
              "<style scoped>\n",
              "    .dataframe tbody tr th:only-of-type {\n",
              "        vertical-align: middle;\n",
              "    }\n",
              "\n",
              "    .dataframe tbody tr th {\n",
              "        vertical-align: top;\n",
              "    }\n",
              "\n",
              "    .dataframe thead th {\n",
              "        text-align: right;\n",
              "    }\n",
              "</style>\n",
              "<table border=\"1\" class=\"dataframe\">\n",
              "  <thead>\n",
              "    <tr style=\"text-align: right;\">\n",
              "      <th></th>\n",
              "      <th>filename</th>\n",
              "      <th>Message-ID</th>\n",
              "      <th>content</th>\n",
              "      <th>Class</th>\n",
              "      <th>clean_text</th>\n",
              "    </tr>\n",
              "  </thead>\n",
              "  <tbody>\n",
              "    <tr>\n",
              "      <th>0</th>\n",
              "      <td>arnold-j/_sent_mail/34.</td>\n",
              "      <td>&lt;15267340.1075857594923.JavaMail.evans@thyme&gt;</td>\n",
              "      <td>eat shit\\n\\n\\n\\n\\nJohn J Lavorato@excelr\\n11/1...</td>\n",
              "      <td>0</td>\n",
              "      <td>eat shit john j lavoratoexcelr 11182000 0101 p...</td>\n",
              "    </tr>\n",
              "    <tr>\n",
              "      <th>1</th>\n",
              "      <td>arnold-j/_sent_mail/517.</td>\n",
              "      <td>&lt;15539583.1075857652152.JavaMail.evans@thyme&gt;</td>\n",
              "      <td>fuck you</td>\n",
              "      <td>0</td>\n",
              "      <td>fuck</td>\n",
              "    </tr>\n",
              "    <tr>\n",
              "      <th>2</th>\n",
              "      <td>arnold-j/_sent_mail/743.</td>\n",
              "      <td>&lt;4339799.1075857657711.JavaMail.evans@thyme&gt;</td>\n",
              "      <td>Gentlemen:\\nThe following champagne is availab...</td>\n",
              "      <td>0</td>\n",
              "      <td>gentleman follow champagn avail 70 approxim re...</td>\n",
              "    </tr>\n",
              "    <tr>\n",
              "      <th>3</th>\n",
              "      <td>arnold-j/_sent_mail/766.</td>\n",
              "      <td>&lt;25574783.1075857658215.JavaMail.evans@thyme&gt;</td>\n",
              "      <td>sorry i've taken so long...just been trying to...</td>\n",
              "      <td>0</td>\n",
              "      <td>sorri ive taken longjust tri fend chick life s...</td>\n",
              "    </tr>\n",
              "    <tr>\n",
              "      <th>4</th>\n",
              "      <td>arnold-j/_sent_mail/797.</td>\n",
              "      <td>&lt;19506151.1075857658895.JavaMail.evans@thyme&gt;</td>\n",
              "      <td>asshole\\n\\n\\n\\n\\nJohn J Lavorato@excelr\\n12/23...</td>\n",
              "      <td>0</td>\n",
              "      <td>asshol john j lavoratoexcelr 12232000 1051 joh...</td>\n",
              "    </tr>\n",
              "  </tbody>\n",
              "</table>\n",
              "</div>\n",
              "    <div class=\"colab-df-buttons\">\n",
              "\n",
              "  <div class=\"colab-df-container\">\n",
              "    <button class=\"colab-df-convert\" onclick=\"convertToInteractive('df-60740820-9d5f-491b-bdb4-d0b1c7aa0a10')\"\n",
              "            title=\"Convert this dataframe to an interactive table.\"\n",
              "            style=\"display:none;\">\n",
              "\n",
              "  <svg xmlns=\"http://www.w3.org/2000/svg\" height=\"24px\" viewBox=\"0 -960 960 960\">\n",
              "    <path d=\"M120-120v-720h720v720H120Zm60-500h600v-160H180v160Zm220 220h160v-160H400v160Zm0 220h160v-160H400v160ZM180-400h160v-160H180v160Zm440 0h160v-160H620v160ZM180-180h160v-160H180v160Zm440 0h160v-160H620v160Z\"/>\n",
              "  </svg>\n",
              "    </button>\n",
              "\n",
              "  <style>\n",
              "    .colab-df-container {\n",
              "      display:flex;\n",
              "      gap: 12px;\n",
              "    }\n",
              "\n",
              "    .colab-df-convert {\n",
              "      background-color: #E8F0FE;\n",
              "      border: none;\n",
              "      border-radius: 50%;\n",
              "      cursor: pointer;\n",
              "      display: none;\n",
              "      fill: #1967D2;\n",
              "      height: 32px;\n",
              "      padding: 0 0 0 0;\n",
              "      width: 32px;\n",
              "    }\n",
              "\n",
              "    .colab-df-convert:hover {\n",
              "      background-color: #E2EBFA;\n",
              "      box-shadow: 0px 1px 2px rgba(60, 64, 67, 0.3), 0px 1px 3px 1px rgba(60, 64, 67, 0.15);\n",
              "      fill: #174EA6;\n",
              "    }\n",
              "\n",
              "    .colab-df-buttons div {\n",
              "      margin-bottom: 4px;\n",
              "    }\n",
              "\n",
              "    [theme=dark] .colab-df-convert {\n",
              "      background-color: #3B4455;\n",
              "      fill: #D2E3FC;\n",
              "    }\n",
              "\n",
              "    [theme=dark] .colab-df-convert:hover {\n",
              "      background-color: #434B5C;\n",
              "      box-shadow: 0px 1px 3px 1px rgba(0, 0, 0, 0.15);\n",
              "      filter: drop-shadow(0px 1px 2px rgba(0, 0, 0, 0.3));\n",
              "      fill: #FFFFFF;\n",
              "    }\n",
              "  </style>\n",
              "\n",
              "    <script>\n",
              "      const buttonEl =\n",
              "        document.querySelector('#df-60740820-9d5f-491b-bdb4-d0b1c7aa0a10 button.colab-df-convert');\n",
              "      buttonEl.style.display =\n",
              "        google.colab.kernel.accessAllowed ? 'block' : 'none';\n",
              "\n",
              "      async function convertToInteractive(key) {\n",
              "        const element = document.querySelector('#df-60740820-9d5f-491b-bdb4-d0b1c7aa0a10');\n",
              "        const dataTable =\n",
              "          await google.colab.kernel.invokeFunction('convertToInteractive',\n",
              "                                                    [key], {});\n",
              "        if (!dataTable) return;\n",
              "\n",
              "        const docLinkHtml = 'Like what you see? Visit the ' +\n",
              "          '<a target=\"_blank\" href=https://colab.research.google.com/notebooks/data_table.ipynb>data table notebook</a>'\n",
              "          + ' to learn more about interactive tables.';\n",
              "        element.innerHTML = '';\n",
              "        dataTable['output_type'] = 'display_data';\n",
              "        await google.colab.output.renderOutput(dataTable, element);\n",
              "        const docLink = document.createElement('div');\n",
              "        docLink.innerHTML = docLinkHtml;\n",
              "        element.appendChild(docLink);\n",
              "      }\n",
              "    </script>\n",
              "  </div>\n",
              "\n",
              "\n",
              "<div id=\"df-74e1a197-ccab-4b80-a71a-6b6c3235d563\">\n",
              "  <button class=\"colab-df-quickchart\" onclick=\"quickchart('df-74e1a197-ccab-4b80-a71a-6b6c3235d563')\"\n",
              "            title=\"Suggest charts\"\n",
              "            style=\"display:none;\">\n",
              "\n",
              "<svg xmlns=\"http://www.w3.org/2000/svg\" height=\"24px\"viewBox=\"0 0 24 24\"\n",
              "     width=\"24px\">\n",
              "    <g>\n",
              "        <path d=\"M19 3H5c-1.1 0-2 .9-2 2v14c0 1.1.9 2 2 2h14c1.1 0 2-.9 2-2V5c0-1.1-.9-2-2-2zM9 17H7v-7h2v7zm4 0h-2V7h2v10zm4 0h-2v-4h2v4z\"/>\n",
              "    </g>\n",
              "</svg>\n",
              "  </button>\n",
              "\n",
              "<style>\n",
              "  .colab-df-quickchart {\n",
              "      --bg-color: #E8F0FE;\n",
              "      --fill-color: #1967D2;\n",
              "      --hover-bg-color: #E2EBFA;\n",
              "      --hover-fill-color: #174EA6;\n",
              "      --disabled-fill-color: #AAA;\n",
              "      --disabled-bg-color: #DDD;\n",
              "  }\n",
              "\n",
              "  [theme=dark] .colab-df-quickchart {\n",
              "      --bg-color: #3B4455;\n",
              "      --fill-color: #D2E3FC;\n",
              "      --hover-bg-color: #434B5C;\n",
              "      --hover-fill-color: #FFFFFF;\n",
              "      --disabled-bg-color: #3B4455;\n",
              "      --disabled-fill-color: #666;\n",
              "  }\n",
              "\n",
              "  .colab-df-quickchart {\n",
              "    background-color: var(--bg-color);\n",
              "    border: none;\n",
              "    border-radius: 50%;\n",
              "    cursor: pointer;\n",
              "    display: none;\n",
              "    fill: var(--fill-color);\n",
              "    height: 32px;\n",
              "    padding: 0;\n",
              "    width: 32px;\n",
              "  }\n",
              "\n",
              "  .colab-df-quickchart:hover {\n",
              "    background-color: var(--hover-bg-color);\n",
              "    box-shadow: 0 1px 2px rgba(60, 64, 67, 0.3), 0 1px 3px 1px rgba(60, 64, 67, 0.15);\n",
              "    fill: var(--button-hover-fill-color);\n",
              "  }\n",
              "\n",
              "  .colab-df-quickchart-complete:disabled,\n",
              "  .colab-df-quickchart-complete:disabled:hover {\n",
              "    background-color: var(--disabled-bg-color);\n",
              "    fill: var(--disabled-fill-color);\n",
              "    box-shadow: none;\n",
              "  }\n",
              "\n",
              "  .colab-df-spinner {\n",
              "    border: 2px solid var(--fill-color);\n",
              "    border-color: transparent;\n",
              "    border-bottom-color: var(--fill-color);\n",
              "    animation:\n",
              "      spin 1s steps(1) infinite;\n",
              "  }\n",
              "\n",
              "  @keyframes spin {\n",
              "    0% {\n",
              "      border-color: transparent;\n",
              "      border-bottom-color: var(--fill-color);\n",
              "      border-left-color: var(--fill-color);\n",
              "    }\n",
              "    20% {\n",
              "      border-color: transparent;\n",
              "      border-left-color: var(--fill-color);\n",
              "      border-top-color: var(--fill-color);\n",
              "    }\n",
              "    30% {\n",
              "      border-color: transparent;\n",
              "      border-left-color: var(--fill-color);\n",
              "      border-top-color: var(--fill-color);\n",
              "      border-right-color: var(--fill-color);\n",
              "    }\n",
              "    40% {\n",
              "      border-color: transparent;\n",
              "      border-right-color: var(--fill-color);\n",
              "      border-top-color: var(--fill-color);\n",
              "    }\n",
              "    60% {\n",
              "      border-color: transparent;\n",
              "      border-right-color: var(--fill-color);\n",
              "    }\n",
              "    80% {\n",
              "      border-color: transparent;\n",
              "      border-right-color: var(--fill-color);\n",
              "      border-bottom-color: var(--fill-color);\n",
              "    }\n",
              "    90% {\n",
              "      border-color: transparent;\n",
              "      border-bottom-color: var(--fill-color);\n",
              "    }\n",
              "  }\n",
              "</style>\n",
              "\n",
              "  <script>\n",
              "    async function quickchart(key) {\n",
              "      const quickchartButtonEl =\n",
              "        document.querySelector('#' + key + ' button');\n",
              "      quickchartButtonEl.disabled = true;  // To prevent multiple clicks.\n",
              "      quickchartButtonEl.classList.add('colab-df-spinner');\n",
              "      try {\n",
              "        const charts = await google.colab.kernel.invokeFunction(\n",
              "            'suggestCharts', [key], {});\n",
              "      } catch (error) {\n",
              "        console.error('Error during call to suggestCharts:', error);\n",
              "      }\n",
              "      quickchartButtonEl.classList.remove('colab-df-spinner');\n",
              "      quickchartButtonEl.classList.add('colab-df-quickchart-complete');\n",
              "    }\n",
              "    (() => {\n",
              "      let quickchartButtonEl =\n",
              "        document.querySelector('#df-74e1a197-ccab-4b80-a71a-6b6c3235d563 button');\n",
              "      quickchartButtonEl.style.display =\n",
              "        google.colab.kernel.accessAllowed ? 'block' : 'none';\n",
              "    })();\n",
              "  </script>\n",
              "</div>\n",
              "\n",
              "    </div>\n",
              "  </div>\n"
            ],
            "application/vnd.google.colaboratory.intrinsic+json": {
              "type": "dataframe",
              "variable_name": "df",
              "summary": "{\n  \"name\": \"df\",\n  \"rows\": 48535,\n  \"fields\": [\n    {\n      \"column\": \"filename\",\n      \"properties\": {\n        \"dtype\": \"string\",\n        \"num_unique_values\": 48076,\n        \"samples\": [\n          \"dasovich-j/sent/1358.\",\n          \"baughman-d/discussion_threads/64.\",\n          \"bass-e/sent/909.\"\n        ],\n        \"semantic_type\": \"\",\n        \"description\": \"\"\n      }\n    },\n    {\n      \"column\": \"Message-ID\",\n      \"properties\": {\n        \"dtype\": \"string\",\n        \"num_unique_values\": 48076,\n        \"samples\": [\n          \"<6040499.1075843217211.JavaMail.evans@thyme>\",\n          \"<15504999.1075848322807.JavaMail.evans@thyme>\",\n          \"<33022878.1075854706185.JavaMail.evans@thyme>\"\n        ],\n        \"semantic_type\": \"\",\n        \"description\": \"\"\n      }\n    },\n    {\n      \"column\": \"content\",\n      \"properties\": {\n        \"dtype\": \"string\",\n        \"num_unique_values\": 24657,\n        \"samples\": [\n          \"\\nSandra,\\n\\nHere is the telephone number to the place that Ken Logsdon works.  The guy listed at the bottom works for Ken.\\n -----Original Message-----\\nFrom: \\t\\\"Steve Bennotti\\\" <sbenott@firstunion1.com>@excelr  \\nSent:\\tMonday, January 14, 2002 9:23 AM\\nTo:\\tundisclosed-recipients:;@excelr\\nSubject:\\tRE: On Line Access to View Your Account.\\n\\nFirst Union has changed the on-line enrollment process. All you need to do is to go to www.firstunionsec.com, click on the \\\"Enroll for access online\\\", You will then be required to call 1-877-879-2495. They will set you up with pin numbers, etc.\\nYou only need to call if you are not on-line or you need to add an account for you to view.. If you prefer, we can do a conference call with First Union to set up the account.\\n\\nPlease give us a call with any questions. The process should take approx. 5 minutes.\\n\\nTake Care and Have a good week,\\n\\n\\nStephen M. Benotti\\nFinancial Consultant\\nEmery Financial Group\\n713-853-2388 (Direct)\\n866-753-9556\\n713-853-2366 (Fax)\\nsbenott@firstunion1.com\",\n          \"\\nUPDATE ON GRAEME WHITE\\n\\nWe are pleased to be able to give you a progress report on the condition of Graeme White who was injured in Wednesday's explosion at Teesside Power Station.  Graeme has now been moved from the Intensive Care Unit at Middlesbrough General Hospital to Ward 46 - a specialised skincare unit - where he is receiving treatment for burns.  He has been able to open his eyes now and is taking food.  His condition is still described as \\\"stable\\\".\\n\\nPlease don't send flowers, but cards and messages for Graeme will be welcome.  They should be sent to the address below or c/o Julie Webster at excelr's Stockton office who will ensure they are promptly delivered.\\n\\nGraeme was visited last night by Jeff Skilling and Brian Stanley and they also met members of his family.  Other colleagues planning a visit should contact Julie Webster (+44 1642 623004) or Graham Moore (+44 1642 442133) who are coordinating the program.\\n\\nAddress for cards and messages:\\n\\nGraeme White\\nWard 46\\nMiddlesbrough General Hospital\\nAyresome Green Lane\\nMiddlesbrough  TS5 5AZ\\nUK\\n\\nJulie Webster\\nexcelr Power Operations Ltd.,\\nMerchants Wharf\\nWestpoint Road\\nStockton on Tees\\nCleveland TS17 6BF\\nUK\\n\\nWith thanks,\\nSteve Roy\",\n          \"here is the house that I was talking about\\n\\nhttp://www.har.com/search/condo/indexdetail.cfm?mlnum=533930\"\n        ],\n        \"semantic_type\": \"\",\n        \"description\": \"\"\n      }\n    },\n    {\n      \"column\": \"Class\",\n      \"properties\": {\n        \"dtype\": \"number\",\n        \"std\": 0,\n        \"min\": 0,\n        \"max\": 1,\n        \"num_unique_values\": 2,\n        \"samples\": [\n          1,\n          0\n        ],\n        \"semantic_type\": \"\",\n        \"description\": \"\"\n      }\n    },\n    {\n      \"column\": \"clean_text\",\n      \"properties\": {\n        \"dtype\": \"category\",\n        \"num_unique_values\": 23952,\n        \"samples\": [\n          \"new reserv confirm rest month western mdea number 1023158 daili nonfirm network 30 mgw\",\n          \"hey ericsorri delay sent brother email right got one say unfortun wasnt go abl make bc start new job unfortun abl ask wed weekend long enough sentenc thank invit definit make loss wed let know anyth el way regist know let know thank jeff origin messag bass eric ericbassexcelrcom smacfarlandgpchorg smacfarlandgpchorg jayandemearthlinknet jayandemearthlinknet tommybomb88hotmailcom tommybomb88hotmailcom sent tuesday januari 08 2002 1050 subject fw jason bachelor parti still havent heard guy regard bachelor parti let know origin messag bass eric sent friday januari 04 2002 1236 pm smacfarlandgpchorg jayandemearthlinknet lqcolomboaolcom dad email tommybomb88hotmailcom billybrown2compaqcom mballaseshotmailcom cc jason bass email subject jason bachelor parti time final come u mourn loss anoth one fallen brother ye jason bass brother get marri feb 2 mind time set festiv bachelor parti parti saturday jan 19 think take gamblingdrink cruis freeport 30 min south houston call texa treasur wwwtxtreasurecom cost run 50 person cruis drink gourmet dinner includ 35person drink buffet dinner let know one would prefer person prefer better dinner gambl expens includ calcul cruis sail 7pm 1am let know make choic dinner would like asap make arrang eric email properti excelr corp andor relev affili may contain confidenti privileg materi sole use intend recipi review use distribut disclosur other strictli prohibit intend recipi author receiv recipi plea contact sender repli excelr corp excelrmessagingadministrationexcelrcom delet copi messag email attach hereto intend offer accept creat evid bind enforc contract excelr corp affili intend recipi parti may reli anyon basi contract estoppel otherwis thank\"\n        ],\n        \"semantic_type\": \"\",\n        \"description\": \"\"\n      }\n    }\n  ]\n}"
            }
          },
          "metadata": {},
          "execution_count": 20
        }
      ],
      "source": [
        "df.head()"
      ]
    },
    {
      "cell_type": "code",
      "execution_count": null,
      "metadata": {
        "id": "zifldKchsyYp"
      },
      "outputs": [],
      "source": [
        "# # text convert numerical vectors using tf-idf\n",
        "\n",
        "# vectorizer = TfidfVectorizer(max_features=5000)\n",
        "# x_tfidf = vectorizer.fit_transform(df['clean_text']) # Changed 'x' to 'df['clean_text']' to use the preprocessed text data"
      ]
    },
    {
      "cell_type": "code",
      "execution_count": null,
      "metadata": {
        "id": "Uzect4WQwPJk"
      },
      "outputs": [],
      "source": [
        "# x = x_tfidf\n",
        "# y = np.argmax(df_encoded.values, axis=1)  # Convert one-hot encoding back to single labels"
      ]
    },
    {
      "cell_type": "code",
      "execution_count": null,
      "metadata": {
        "id": "bR3iplWvtSCj"
      },
      "outputs": [],
      "source": [
        "x_train, x_test, y_train, y_test = train_test_split(x_tfidf, y, test_size=0.2, random_state=42)"
      ]
    },
    {
      "cell_type": "code",
      "source": [
        "from imblearn.over_sampling import SMOTE\n",
        "smote = SMOTE(random_state=42)\n",
        "x_train, y_train = smote.fit_resample(x_train, y_train)"
      ],
      "metadata": {
        "id": "j-rd2ldM8Fi5"
      },
      "execution_count": null,
      "outputs": []
    },
    {
      "cell_type": "code",
      "execution_count": null,
      "metadata": {
        "id": "te05ah0AthiA"
      },
      "outputs": [],
      "source": [
        "from sklearn.linear_model import LogisticRegression\n"
      ]
    },
    {
      "cell_type": "code",
      "execution_count": null,
      "metadata": {
        "colab": {
          "base_uri": "https://localhost:8080/"
        },
        "id": "bqqRStLftoes",
        "outputId": "220fc24e-1f1f-4aa1-ebeb-b38efbc0e3c0"
      },
      "outputs": [
        {
          "output_type": "stream",
          "name": "stdout",
          "text": [
            "Accuracy_score 96.03379004841867\n"
          ]
        }
      ],
      "source": [
        "\n",
        "lcf = LogisticRegression()\n",
        "lcf.fit(x_train, y_train)\n",
        "y_pred = lcf.predict(x_test)\n",
        "acc = accuracy_score(y_test, y_pred)\n",
        "print('Accuracy_score', acc * 100)"
      ]
    },
    {
      "cell_type": "code",
      "execution_count": null,
      "metadata": {
        "colab": {
          "base_uri": "https://localhost:8080/"
        },
        "id": "9ASuWOcl-pdW",
        "outputId": "a8ed2582-5dea-402e-f107-66255c672f92"
      },
      "outputs": [
        {
          "output_type": "stream",
          "name": "stdout",
          "text": [
            "1    8693\n",
            "0    1014\n",
            "Name: count, dtype: int64\n"
          ]
        }
      ],
      "source": [
        "print(pd.Series(y_pred).value_counts())"
      ]
    },
    {
      "cell_type": "code",
      "execution_count": null,
      "metadata": {
        "colab": {
          "base_uri": "https://localhost:8080/"
        },
        "id": "UKnjMwimuY9q",
        "outputId": "4d4b7c02-fa7a-4b47-a1c0-83a56234c39a"
      },
      "outputs": [
        {
          "output_type": "stream",
          "name": "stdout",
          "text": [
            "Classification report:\n",
            "              precision    recall  f1-score   support\n",
            "\n",
            "           0       0.65      0.96      0.77       691\n",
            "           1       1.00      0.96      0.98      9016\n",
            "\n",
            "    accuracy                           0.96      9707\n",
            "   macro avg       0.82      0.96      0.88      9707\n",
            "weighted avg       0.97      0.96      0.96      9707\n",
            "\n"
          ]
        }
      ],
      "source": [
        "# Import the 'classification_report' function\n",
        "from sklearn.metrics import classification_report\n",
        "\n",
        "print(\"Classification report:\")\n",
        "print(classification_report(y_test, y_pred))"
      ]
    },
    {
      "cell_type": "code",
      "execution_count": null,
      "metadata": {
        "id": "GjefckmDwlPg"
      },
      "outputs": [],
      "source": [
        "from sklearn.metrics import confusion_matrix\n",
        "cm = confusion_matrix(y_test, y_pred)"
      ]
    },
    {
      "cell_type": "code",
      "execution_count": null,
      "metadata": {
        "colab": {
          "base_uri": "https://localhost:8080/",
          "height": 718
        },
        "id": "SLw8OGmPw8I4",
        "outputId": "d485486c-939a-40f6-fdf6-6257e4eac395"
      },
      "outputs": [
        {
          "output_type": "display_data",
          "data": {
            "text/plain": [
              "<Figure size 1000x800 with 2 Axes>"
            ],
            "image/png": "[encoded data removed]"
          },
          "metadata": {}
        }
      ],
      "source": [
        "plt.figure(figsize=(10,8))\n",
        "sns.heatmap(cm, annot=True, fmt='d', cmap='Blues', xticklabels=[\"non_spam\", \"spam\"], yticklabels=[\"non_spam\", \"spam\"])\n",
        "plt.title('predication label')\n",
        "plt.ylabel('true label')\n",
        "plt.xlabel('Predicted')\n",
        "plt.show()"
      ]
    },
    {
      "cell_type": "code",
      "execution_count": null,
      "metadata": {
        "colab": {
          "base_uri": "https://localhost:8080/",
          "height": 472
        },
        "id": "Yz5k4OhZxrBL",
        "outputId": "f8000f44-3fe6-4ea3-afb2-33cdde07ff39"
      },
      "outputs": [
        {
          "output_type": "display_data",
          "data": {
            "text/plain": [
              "<Figure size 640x480 with 1 Axes>"
            ],
            "image/png": "[encoded data removed]"
          },
          "metadata": {}
        }
      ],
      "source": [
        "# Count plot for predicted classes\n",
        "sns.countplot(x=y_pred, palette='coolwarm')\n",
        "plt.title('Abusive vs Non Abusive Predictions')\n",
        "plt.xlabel('Predicted Class')\n",
        "plt.ylabel('Count')\n",
        "plt.xticks(ticks=[0, 1], labels=['Abusive', 'Non Abusive'])\n",
        "plt.show()\n"
      ]
    },
    {
      "cell_type": "code",
      "execution_count": null,
      "metadata": {
        "id": "G6QLnqvUx6go"
      },
      "outputs": [],
      "source": [
        "from sklearn.svm import SVC"
      ]
    },
    {
      "cell_type": "code",
      "execution_count": null,
      "metadata": {
        "colab": {
          "base_uri": "https://localhost:8080/"
        },
        "id": "qceGpp_JzP4A",
        "outputId": "9afd415b-0e4b-4687-db87-2daece304edc"
      },
      "outputs": [
        {
          "output_type": "stream",
          "name": "stdout",
          "text": [
            "Accuracy_score 98.36200679921706\n"
          ]
        }
      ],
      "source": [
        "svc = SVC()\n",
        "svc.fit(x_train, y_train)\n",
        "y_pred = svc.predict(x_test)\n",
        "acc = accuracy_score(y_test, y_pred)\n",
        "print('Accuracy_score', acc * 100)"
      ]
    },
    {
      "cell_type": "code",
      "execution_count": null,
      "metadata": {
        "colab": {
          "base_uri": "https://localhost:8080/"
        },
        "id": "rjQb3o8--9ui",
        "outputId": "42c69ab0-072d-45c7-846f-fa9ed14e1601"
      },
      "outputs": [
        {
          "output_type": "stream",
          "name": "stdout",
          "text": [
            "1    8953\n",
            "0     754\n",
            "Name: count, dtype: int64\n"
          ]
        }
      ],
      "source": [
        "print(pd.Series(y_pred).value_counts())"
      ]
    },
    {
      "cell_type": "code",
      "execution_count": null,
      "metadata": {
        "colab": {
          "base_uri": "https://localhost:8080/"
        },
        "id": "DeJJqlmCzoIl",
        "outputId": "31adcfd6-06e5-499f-a5df-1403d3beb943"
      },
      "outputs": [
        {
          "output_type": "stream",
          "name": "stdout",
          "text": [
            "Classification report:\n",
            "              precision    recall  f1-score   support\n",
            "\n",
            "           0       0.85      0.93      0.89       691\n",
            "           1       0.99      0.99      0.99      9016\n",
            "\n",
            "    accuracy                           0.98      9707\n",
            "   macro avg       0.92      0.96      0.94      9707\n",
            "weighted avg       0.98      0.98      0.98      9707\n",
            "\n"
          ]
        }
      ],
      "source": [
        "print('Classification report:')\n",
        "print(classification_report(y_test, y_pred))"
      ]
    },
    {
      "cell_type": "code",
      "execution_count": null,
      "metadata": {
        "colab": {
          "base_uri": "https://localhost:8080/",
          "height": 472
        },
        "id": "8WGAzkB30jT_",
        "outputId": "4fa81d56-1baa-48d0-d870-4f39a4eb012f"
      },
      "outputs": [
        {
          "output_type": "display_data",
          "data": {
            "text/plain": [
              "<Figure size 640x480 with 1 Axes>"
            ],
            "image/png": "[encoded data removed]"
          },
          "metadata": {}
        }
      ],
      "source": [
        "sns.countplot(x=y_pred, palette='coolwarm')\n",
        "plt.title('Abusive vs Non Abusive Predictions')\n",
        "plt.xlabel('Predicted Class')\n",
        "plt.ylabel('Count')\n",
        "plt.xticks(ticks=[0, 1], labels=['Abusive', 'Non Abusive'])\n",
        "plt.show()"
      ]
    },
    {
      "cell_type": "code",
      "execution_count": null,
      "metadata": {
        "id": "c0eJTHbi04h1"
      },
      "outputs": [],
      "source": [
        "from sklearn.ensemble import RandomForestClassifier"
      ]
    },
    {
      "cell_type": "code",
      "execution_count": null,
      "metadata": {
        "colab": {
          "base_uri": "https://localhost:8080/"
        },
        "id": "mSin8M8e1Czo",
        "outputId": "9456efa9-f8f0-48c5-f717-fa47116bc531"
      },
      "outputs": [
        {
          "output_type": "stream",
          "name": "stdout",
          "text": [
            "Accuracy_score 99.02132481714226\n"
          ]
        }
      ],
      "source": [
        "ran = RandomForestClassifier()\n",
        "ran.fit(x_train, y_train)\n",
        "y_pred = ran.predict(x_test)\n",
        "acc = accuracy_score(y_test, y_pred)\n",
        "print('Accuracy_score', acc * 100)"
      ]
    },
    {
      "cell_type": "code",
      "execution_count": null,
      "metadata": {
        "colab": {
          "base_uri": "https://localhost:8080/"
        },
        "id": "9C-Wcxwj1RWL",
        "outputId": "a7974212-da75-4ff2-c0af-56a63849b49a"
      },
      "outputs": [
        {
          "output_type": "stream",
          "name": "stdout",
          "text": [
            "Classification report:\n",
            "              precision    recall  f1-score   support\n",
            "\n",
            "           0       0.97      0.89      0.93       691\n",
            "           1       0.99      1.00      0.99      9016\n",
            "\n",
            "    accuracy                           0.99      9707\n",
            "   macro avg       0.98      0.94      0.96      9707\n",
            "weighted avg       0.99      0.99      0.99      9707\n",
            "\n"
          ]
        }
      ],
      "source": [
        "print('Classification report:')\n",
        "print(classification_report(y_test, y_pred))"
      ]
    },
    {
      "cell_type": "code",
      "execution_count": null,
      "metadata": {
        "colab": {
          "base_uri": "https://localhost:8080/",
          "height": 472
        },
        "id": "TL82jmhC10LI",
        "outputId": "4349eb98-1c38-4d26-dcd2-ecc099dc5bfb"
      },
      "outputs": [
        {
          "output_type": "display_data",
          "data": {
            "text/plain": [
              "<Figure size 640x480 with 1 Axes>"
            ],
            "image/png": "[encoded data removed]"
          },
          "metadata": {}
        }
      ],
      "source": [
        "sns.countplot(x=y_pred, palette='coolwarm')\n",
        "plt.title('Abusive vs Non Abusive Predictions')\n",
        "plt.xlabel('Predicted Class')\n",
        "plt.ylabel('Count')\n",
        "plt.xticks(ticks=[0,1], labels=['Abusive', 'Non-Abusive'])\n",
        "plt.show()"
      ]
    },
    {
      "cell_type": "code",
      "execution_count": null,
      "metadata": {
        "id": "ERFzfSQT2LeW"
      },
      "outputs": [],
      "source": [
        "from sklearn.tree import DecisionTreeClassifier"
      ]
    },
    {
      "cell_type": "code",
      "execution_count": null,
      "metadata": {
        "colab": {
          "base_uri": "https://localhost:8080/"
        },
        "id": "-bD4nsFw2WDy",
        "outputId": "598a0c08-4476-4b79-c989-4dc60aecf413"
      },
      "outputs": [
        {
          "output_type": "stream",
          "name": "stdout",
          "text": [
            "Accurcay_score 98.10446069846502\n"
          ]
        }
      ],
      "source": [
        "dec = DecisionTreeClassifier()\n",
        "dec.fit(x_train, y_train)\n",
        "y_pred = dec.predict(x_test) # Changed x_text to x_test\n",
        "acc = accuracy_score(y_test, y_pred)\n",
        "print('Accurcay_score', acc * 100)"
      ]
    },
    {
      "cell_type": "code",
      "execution_count": null,
      "metadata": {
        "colab": {
          "base_uri": "https://localhost:8080/"
        },
        "id": "AeMe-cGv2skO",
        "outputId": "f81ea669-be67-48e7-c2de-3d2ab5421a52"
      },
      "outputs": [
        {
          "output_type": "stream",
          "name": "stdout",
          "text": [
            "Classification Report\n",
            "              precision    recall  f1-score   support\n",
            "\n",
            "           0       0.84      0.91      0.87       691\n",
            "           1       0.99      0.99      0.99      9016\n",
            "\n",
            "    accuracy                           0.98      9707\n",
            "   macro avg       0.92      0.95      0.93      9707\n",
            "weighted avg       0.98      0.98      0.98      9707\n",
            "\n"
          ]
        }
      ],
      "source": [
        "print('Classification Report')\n",
        "print(classification_report(y_test, y_pred))"
      ]
    },
    {
      "cell_type": "code",
      "execution_count": null,
      "metadata": {
        "colab": {
          "base_uri": "https://localhost:8080/",
          "height": 472
        },
        "id": "hgyPEpHD3M4a",
        "outputId": "d976f894-a8eb-4395-e780-7f6c58c1563a"
      },
      "outputs": [
        {
          "output_type": "display_data",
          "data": {
            "text/plain": [
              "<Figure size 640x480 with 1 Axes>"
            ],
            "image/png": "[encoded data removed]"
          },
          "metadata": {}
        }
      ],
      "source": [
        "sns.countplot(x=y_pred, palette='coolwarm')\n",
        "plt.title('Abusive vs Non Abusive Predictions')\n",
        "plt.xlabel('predicated class')\n",
        "plt.ylabel('Count')\n",
        "plt.xticks(ticks=[0,1], labels=['Abusive', 'Non-Abusive'])\n",
        "plt.show()"
      ]
    },
    {
      "cell_type": "code",
      "execution_count": null,
      "metadata": {
        "id": "JcGTQMWd36lb"
      },
      "outputs": [],
      "source": [
        "import xgboost as xgb"
      ]
    },
    {
      "cell_type": "code",
      "execution_count": null,
      "metadata": {
        "colab": {
          "base_uri": "https://localhost:8080/"
        },
        "id": "HLV0xWKO4FCR",
        "outputId": "01fbac3c-b4f0-404e-ae88-4507ff2b7bdb"
      },
      "outputs": [
        {
          "output_type": "stream",
          "name": "stdout",
          "text": [
            "Accuracy_score 95.68352735139591\n"
          ]
        }
      ],
      "source": [
        "xgb_model = xgb.XGBClassifier()\n",
        "xgb_model.fit(x_train, y_train)\n",
        "y_pred = xgb_model.predict(x_test)\n",
        "acc = accuracy_score(y_test, y_pred)\n",
        "print('Accuracy_score', acc * 100)"
      ]
    },
    {
      "cell_type": "code",
      "execution_count": null,
      "metadata": {
        "colab": {
          "base_uri": "https://localhost:8080/"
        },
        "id": "m6dUTdrI4a2_",
        "outputId": "194881aa-4c9e-46ed-e7f3-7db550fdedd6"
      },
      "outputs": [
        {
          "output_type": "stream",
          "name": "stdout",
          "text": [
            "Classification_report\n",
            "              precision    recall  f1-score   support\n",
            "\n",
            "           0       0.63      0.93      0.75       691\n",
            "           1       0.99      0.96      0.98      9016\n",
            "\n",
            "    accuracy                           0.96      9707\n",
            "   macro avg       0.81      0.94      0.87      9707\n",
            "weighted avg       0.97      0.96      0.96      9707\n",
            "\n"
          ]
        }
      ],
      "source": [
        "print('Classification_report')\n",
        "print(classification_report(y_test, y_pred))"
      ]
    },
    {
      "cell_type": "code",
      "execution_count": null,
      "metadata": {
        "colab": {
          "base_uri": "https://localhost:8080/",
          "height": 472
        },
        "id": "lw8CUKVk4lqL",
        "outputId": "751acb91-cbcd-4139-bbf3-a4534b830e54"
      },
      "outputs": [
        {
          "output_type": "display_data",
          "data": {
            "text/plain": [
              "<Figure size 640x480 with 1 Axes>"
            ],
            "image/png": "[encoded data removed]"
          },
          "metadata": {}
        }
      ],
      "source": [
        "sns.countplot(x=y_pred, palette='coolwarm')\n",
        "plt.title('Abusive vs Non-Abusive')\n",
        "plt.xlabel('Predicated Class')\n",
        "plt.ylabel('Count')\n",
        "plt.xticks(ticks=[0,1], labels = ['Non-Abusive', 'Abusive'])\n",
        "plt.show()"
      ]
    },
    {
      "cell_type": "code",
      "execution_count": null,
      "metadata": {
        "id": "-VZYHpih5JNe"
      },
      "outputs": [],
      "source": [
        "from sklearn.neighbors import KNeighborsClassifier"
      ]
    },
    {
      "cell_type": "code",
      "execution_count": null,
      "metadata": {
        "id": "JHvNAc6Z541E",
        "colab": {
          "base_uri": "https://localhost:8080/"
        },
        "outputId": "bab38c7c-1fa2-4b39-c15f-b2c10fffaa15"
      },
      "outputs": [
        {
          "output_type": "stream",
          "name": "stdout",
          "text": [
            "Accuracy_score 62.933965179767185\n"
          ]
        }
      ],
      "source": [
        "kne = KNeighborsClassifier()\n",
        "kne.fit(x_train, y_train)\n",
        "y_pred = kne.predict(x_test)\n",
        "acc = accuracy_score(y_test, y_pred)\n",
        "print('Accuracy_score', acc * 100)"
      ]
    },
    {
      "cell_type": "code",
      "execution_count": null,
      "metadata": {
        "id": "Rhm91JKD6Slv",
        "colab": {
          "base_uri": "https://localhost:8080/"
        },
        "outputId": "0fd51731-6847-466c-bdf8-6e3ccc0eb094"
      },
      "outputs": [
        {
          "output_type": "stream",
          "name": "stdout",
          "text": [
            "Classifiation_report\n",
            "              precision    recall  f1-score   support\n",
            "\n",
            "           0       0.16      0.99      0.28       691\n",
            "           1       1.00      0.60      0.75      9016\n",
            "\n",
            "    accuracy                           0.63      9707\n",
            "   macro avg       0.58      0.80      0.51      9707\n",
            "weighted avg       0.94      0.63      0.72      9707\n",
            "\n"
          ]
        }
      ],
      "source": [
        "print('Classifiation_report')\n",
        "print(classification_report(y_test, y_pred))"
      ]
    },
    {
      "cell_type": "code",
      "execution_count": null,
      "metadata": {
        "id": "lxefk1zE6igx",
        "colab": {
          "base_uri": "https://localhost:8080/",
          "height": 472
        },
        "outputId": "699af67a-13ce-40a2-afad-fb4412f60a49"
      },
      "outputs": [
        {
          "output_type": "display_data",
          "data": {
            "text/plain": [
              "<Figure size 640x480 with 1 Axes>"
            ],
            "image/png": "[encoded data removed]"
          },
          "metadata": {}
        }
      ],
      "source": [
        "sns.countplot(x=y_pred, palette='coolwarm')\n",
        "plt.title('Abusive vs Non-Abusive')\n",
        "plt.xlabel('Predicated Class')\n",
        "plt.ylabel('Count')\n",
        "plt.xticks(ticks=[0,1], labels = ['Non-Abusive', 'Abusive'])\n",
        "plt.show()"
      ]
    },
    {
      "cell_type": "code",
      "execution_count": null,
      "metadata": {
        "id": "UKExSiQ57HZs"
      },
      "outputs": [],
      "source": [
        "import pickle"
      ]
    },
    {
      "cell_type": "code",
      "execution_count": null,
      "metadata": {
        "id": "8WYMxQGtBddf"
      },
      "outputs": [],
      "source": [
        "with open('Email.pkl', 'wb') as file:\n",
        "   pickle.dump(ran, file)"
      ]
    },
    {
      "cell_type": "code",
      "execution_count": null,
      "metadata": {
        "id": "pJINZhY6B3C-"
      },
      "outputs": [],
      "source": [
        "with open(\"TfidfVectorizer.pkl\", \"wb\") as file:\n",
        "    pickle.dump(vectorizer, file)\n"
      ]
    },
    {
      "cell_type": "code",
      "execution_count": null,
      "metadata": {
        "id": "K6f4uvuS-j5J"
      },
      "outputs": [],
      "source": []
    }
  ],
  "metadata": {
    "colab": {
      "provenance": []
    },
    "kernelspec": {
      "display_name": "Python 3",
      "name": "python3"
    },
    "language_info": {
      "name": "python"
    }
  },
  "nbformat": 4,
  "nbformat_minor": 0
}